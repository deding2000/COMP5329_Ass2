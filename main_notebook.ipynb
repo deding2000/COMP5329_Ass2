{
  "cells": [
    {
      "cell_type": "markdown",
      "metadata": {
        "id": "view-in-github",
        "colab_type": "text"
      },
      "source": [
        "<a href=\"https://colab.research.google.com/github/deding2000/COMP5329_Ass2/blob/main/main_notebook.ipynb\" target=\"_parent\"><img src=\"https://colab.research.google.com/assets/colab-badge.svg\" alt=\"Open In Colab\"/></a>"
      ]
    },
    {
      "cell_type": "code",
      "execution_count": null,
      "id": "7b8ec581",
      "metadata": {
        "vscode": {
          "languageId": "plaintext"
        },
        "colab": {
          "base_uri": "https://localhost:8080/"
        },
        "id": "7b8ec581",
        "outputId": "546900de-64dd-4a37-c5cc-396b15840297"
      },
      "outputs": [
        {
          "output_type": "stream",
          "name": "stdout",
          "text": [
            "Mounted at /content/drive\n"
          ]
        }
      ],
      "source": [
        "# Not needed before we upload files to google drive\n",
        "from google.colab import drive\n",
        "drive.mount('/content/drive')"
      ]
    },
    {
      "cell_type": "code",
      "source": [
        "from google.colab import files\n",
        "uploaded = files.upload() # select all python files from the github page and kaggle.json"
      ],
      "metadata": {
        "id": "GX_AvoqV4L6x",
        "outputId": "1316e526-e5fa-4b31-845d-d92a6117100f",
        "colab": {
          "base_uri": "https://localhost:8080/",
          "height": 351
        }
      },
      "id": "GX_AvoqV4L6x",
      "execution_count": 1,
      "outputs": [
        {
          "output_type": "display_data",
          "data": {
            "text/plain": [
              "<IPython.core.display.HTML object>"
            ],
            "text/html": [
              "\n",
              "     <input type=\"file\" id=\"files-536cbcf0-5b4b-41a2-9be9-bc542845933f\" name=\"files[]\" multiple disabled\n",
              "        style=\"border:none\" />\n",
              "     <output id=\"result-536cbcf0-5b4b-41a2-9be9-bc542845933f\">\n",
              "      Upload widget is only available when the cell has been executed in the\n",
              "      current browser session. Please rerun this cell to enable.\n",
              "      </output>\n",
              "      <script>// Copyright 2017 Google LLC\n",
              "//\n",
              "// Licensed under the Apache License, Version 2.0 (the \"License\");\n",
              "// you may not use this file except in compliance with the License.\n",
              "// You may obtain a copy of the License at\n",
              "//\n",
              "//      http://www.apache.org/licenses/LICENSE-2.0\n",
              "//\n",
              "// Unless required by applicable law or agreed to in writing, software\n",
              "// distributed under the License is distributed on an \"AS IS\" BASIS,\n",
              "// WITHOUT WARRANTIES OR CONDITIONS OF ANY KIND, either express or implied.\n",
              "// See the License for the specific language governing permissions and\n",
              "// limitations under the License.\n",
              "\n",
              "/**\n",
              " * @fileoverview Helpers for google.colab Python module.\n",
              " */\n",
              "(function(scope) {\n",
              "function span(text, styleAttributes = {}) {\n",
              "  const element = document.createElement('span');\n",
              "  element.textContent = text;\n",
              "  for (const key of Object.keys(styleAttributes)) {\n",
              "    element.style[key] = styleAttributes[key];\n",
              "  }\n",
              "  return element;\n",
              "}\n",
              "\n",
              "// Max number of bytes which will be uploaded at a time.\n",
              "const MAX_PAYLOAD_SIZE = 100 * 1024;\n",
              "\n",
              "function _uploadFiles(inputId, outputId) {\n",
              "  const steps = uploadFilesStep(inputId, outputId);\n",
              "  const outputElement = document.getElementById(outputId);\n",
              "  // Cache steps on the outputElement to make it available for the next call\n",
              "  // to uploadFilesContinue from Python.\n",
              "  outputElement.steps = steps;\n",
              "\n",
              "  return _uploadFilesContinue(outputId);\n",
              "}\n",
              "\n",
              "// This is roughly an async generator (not supported in the browser yet),\n",
              "// where there are multiple asynchronous steps and the Python side is going\n",
              "// to poll for completion of each step.\n",
              "// This uses a Promise to block the python side on completion of each step,\n",
              "// then passes the result of the previous step as the input to the next step.\n",
              "function _uploadFilesContinue(outputId) {\n",
              "  const outputElement = document.getElementById(outputId);\n",
              "  const steps = outputElement.steps;\n",
              "\n",
              "  const next = steps.next(outputElement.lastPromiseValue);\n",
              "  return Promise.resolve(next.value.promise).then((value) => {\n",
              "    // Cache the last promise value to make it available to the next\n",
              "    // step of the generator.\n",
              "    outputElement.lastPromiseValue = value;\n",
              "    return next.value.response;\n",
              "  });\n",
              "}\n",
              "\n",
              "/**\n",
              " * Generator function which is called between each async step of the upload\n",
              " * process.\n",
              " * @param {string} inputId Element ID of the input file picker element.\n",
              " * @param {string} outputId Element ID of the output display.\n",
              " * @return {!Iterable<!Object>} Iterable of next steps.\n",
              " */\n",
              "function* uploadFilesStep(inputId, outputId) {\n",
              "  const inputElement = document.getElementById(inputId);\n",
              "  inputElement.disabled = false;\n",
              "\n",
              "  const outputElement = document.getElementById(outputId);\n",
              "  outputElement.innerHTML = '';\n",
              "\n",
              "  const pickedPromise = new Promise((resolve) => {\n",
              "    inputElement.addEventListener('change', (e) => {\n",
              "      resolve(e.target.files);\n",
              "    });\n",
              "  });\n",
              "\n",
              "  const cancel = document.createElement('button');\n",
              "  inputElement.parentElement.appendChild(cancel);\n",
              "  cancel.textContent = 'Cancel upload';\n",
              "  const cancelPromise = new Promise((resolve) => {\n",
              "    cancel.onclick = () => {\n",
              "      resolve(null);\n",
              "    };\n",
              "  });\n",
              "\n",
              "  // Wait for the user to pick the files.\n",
              "  const files = yield {\n",
              "    promise: Promise.race([pickedPromise, cancelPromise]),\n",
              "    response: {\n",
              "      action: 'starting',\n",
              "    }\n",
              "  };\n",
              "\n",
              "  cancel.remove();\n",
              "\n",
              "  // Disable the input element since further picks are not allowed.\n",
              "  inputElement.disabled = true;\n",
              "\n",
              "  if (!files) {\n",
              "    return {\n",
              "      response: {\n",
              "        action: 'complete',\n",
              "      }\n",
              "    };\n",
              "  }\n",
              "\n",
              "  for (const file of files) {\n",
              "    const li = document.createElement('li');\n",
              "    li.append(span(file.name, {fontWeight: 'bold'}));\n",
              "    li.append(span(\n",
              "        `(${file.type || 'n/a'}) - ${file.size} bytes, ` +\n",
              "        `last modified: ${\n",
              "            file.lastModifiedDate ? file.lastModifiedDate.toLocaleDateString() :\n",
              "                                    'n/a'} - `));\n",
              "    const percent = span('0% done');\n",
              "    li.appendChild(percent);\n",
              "\n",
              "    outputElement.appendChild(li);\n",
              "\n",
              "    const fileDataPromise = new Promise((resolve) => {\n",
              "      const reader = new FileReader();\n",
              "      reader.onload = (e) => {\n",
              "        resolve(e.target.result);\n",
              "      };\n",
              "      reader.readAsArrayBuffer(file);\n",
              "    });\n",
              "    // Wait for the data to be ready.\n",
              "    let fileData = yield {\n",
              "      promise: fileDataPromise,\n",
              "      response: {\n",
              "        action: 'continue',\n",
              "      }\n",
              "    };\n",
              "\n",
              "    // Use a chunked sending to avoid message size limits. See b/62115660.\n",
              "    let position = 0;\n",
              "    do {\n",
              "      const length = Math.min(fileData.byteLength - position, MAX_PAYLOAD_SIZE);\n",
              "      const chunk = new Uint8Array(fileData, position, length);\n",
              "      position += length;\n",
              "\n",
              "      const base64 = btoa(String.fromCharCode.apply(null, chunk));\n",
              "      yield {\n",
              "        response: {\n",
              "          action: 'append',\n",
              "          file: file.name,\n",
              "          data: base64,\n",
              "        },\n",
              "      };\n",
              "\n",
              "      let percentDone = fileData.byteLength === 0 ?\n",
              "          100 :\n",
              "          Math.round((position / fileData.byteLength) * 100);\n",
              "      percent.textContent = `${percentDone}% done`;\n",
              "\n",
              "    } while (position < fileData.byteLength);\n",
              "  }\n",
              "\n",
              "  // All done.\n",
              "  yield {\n",
              "    response: {\n",
              "      action: 'complete',\n",
              "    }\n",
              "  };\n",
              "}\n",
              "\n",
              "scope.google = scope.google || {};\n",
              "scope.google.colab = scope.google.colab || {};\n",
              "scope.google.colab._files = {\n",
              "  _uploadFiles,\n",
              "  _uploadFilesContinue,\n",
              "};\n",
              "})(self);\n",
              "</script> "
            ]
          },
          "metadata": {}
        },
        {
          "output_type": "stream",
          "name": "stdout",
          "text": [
            "Saving Dataload.py to Dataload.py\n",
            "Saving kaggle.json to kaggle.json\n",
            "Saving metrics.py to metrics.py\n",
            "Saving pos_weight.py to pos_weight.py\n",
            "Saving samples_weight.pt to samples_weight.pt\n",
            "Saving samples_weight_subset.pt to samples_weight_subset.pt\n",
            "Saving subset_train_indices.npy to subset_train_indices.npy\n",
            "Saving utils.py to utils.py\n",
            "Saving validation_indices.npy to validation_indices.npy\n"
          ]
        }
      ]
    },
    {
      "cell_type": "code",
      "source": [
        "! mkdir ~/.kaggle\n",
        "! cp kaggle.json ~/.kaggle/\n",
        "! chmod 600 ~/.kaggle/kaggle.json\n",
        "! kaggle competitions download -c 'multi-label-classification-competition-2025'\n",
        "! mkdir Dataset\n",
        "! unzip multi-label-classification-competition-2025.zip -d Dataset &> /dev/null"
      ],
      "metadata": {
        "id": "uf168JTBuHpQ",
        "outputId": "66226ca5-cb86-4d6f-af64-6d0450f0f835",
        "colab": {
          "base_uri": "https://localhost:8080/"
        }
      },
      "id": "uf168JTBuHpQ",
      "execution_count": 2,
      "outputs": [
        {
          "output_type": "stream",
          "name": "stdout",
          "text": [
            "Downloading multi-label-classification-competition-2025.zip to /content\n",
            " 97% 388M/399M [00:00<00:00, 1.35GB/s]\n",
            "100% 399M/399M [00:00<00:00, 1.35GB/s]\n"
          ]
        }
      ]
    },
    {
      "cell_type": "code",
      "source": [
        "# Model arcitechture\n",
        "import torch.nn.functional as F\n",
        "from torch import nn\n",
        "\n",
        "class CNN(nn.Module):\n",
        "    def __init__(self):\n",
        "        super(CNN, self).__init__()  # Compulsory operation.\n",
        "        self.conv1 = nn.Conv2d(in_channels=3, out_channels=8, kernel_size=7, stride=2, padding=1)\n",
        "        self.conv2 = nn.Conv2d(8, 16, 5, stride=1, padding=1)\n",
        "        self.conv3 = nn.Conv2d(16, 32,3, stride=1,padding=1)\n",
        "        self.pool = nn.MaxPool2d(3,stride=2)\n",
        "        self.bn1 = nn.BatchNorm2d(8)\n",
        "        self.bn2 = nn.BatchNorm2d(16)\n",
        "        self.bn3 = nn.BatchNorm2d(32)\n",
        "        self.bn4 = nn.BatchNorm1d(1000)\n",
        "        self.dropout1 = nn.Dropout2d(0.25)\n",
        "        self.dropout2 = nn.Dropout2d(0.25)\n",
        "        self.dropout3 = nn.Dropout(0.5)\n",
        "        self.fc1 = nn.Linear(6272, 1000)\n",
        "        self.fc2 = nn.Linear(1000, 19)\n",
        "\n",
        "    def forward(self, x):\n",
        "        x = self.pool(F.relu(self.bn1(self.conv1(x))))\n",
        "        x = self.dropout1(x)\n",
        "        x = self.pool(F.relu(self.bn2(self.conv2(x))))\n",
        "        x = self.dropout2(x)\n",
        "        x = self.pool(F.relu(self.bn3(self.conv3(x))))\n",
        "        x = torch.flatten(x, 1) # flatten all dimensions except batch\n",
        "        x = self.dropout3(x)\n",
        "        x = F.relu(self.bn4(self.fc1(x)))\n",
        "        x = self.dropout3(x)\n",
        "        logits = self.fc2(x)\n",
        "        return logits"
      ],
      "metadata": {
        "id": "u6SWXu0b-joR"
      },
      "id": "u6SWXu0b-joR",
      "execution_count": 4,
      "outputs": []
    },
    {
      "cell_type": "code",
      "source": [
        "import re\n",
        "import pandas as pd\n",
        "from io import StringIO\n",
        "import os\n",
        "import torch\n",
        "from torch import nn\n",
        "import torch.nn.functional as F\n",
        "import matplotlib.pyplot as plt\n",
        "from torchvision import transforms\n",
        "from torch.utils.data import DataLoader, Subset, random_split, WeightedRandomSampler\n",
        "\n",
        "from Dataload import pil_process_image_color, encode, CustomImageDataset\n",
        "from utils import train_network, pos_weight, test\n",
        "from metrics import compute_metrics\n",
        "from sklearn.metrics import confusion_matrix\n",
        "import torch\n",
        "import numpy as np\n",
        "from tqdm import tqdm\n",
        "\n",
        "# Hyperparameters\n",
        "batch_size = 256\n",
        "lr = 0.0001\n",
        "weight_decay = 0\n",
        "thresholds = [0.5]*19\n",
        "thresholds[11] = 1.1 # never predict class 12\n",
        "INPUT_HEIGHT = 256\n",
        "INPUT_WIDTH = 256\n",
        "\n",
        "# Set device to GPU if this is available\n",
        "use_cuda = True if torch.cuda.is_available() else False\n",
        "device = torch.device(\"cuda\" if torch.cuda.is_available() else \"cpu\")\n",
        "print('We are using GPU.' if use_cuda else 'We are using CPU.')\n",
        "\n",
        "# Loading filenames and labels\n",
        "# Assumes data is in folder \"Dataset\"\n",
        "DATASET_PATH = \"/content/Dataset/COMP5329S1A2Dataset/\"\n",
        "FILENAME_TRAIN = 'train.csv'\n",
        "FILENAME_TEST = 'test.csv'\n",
        "\n",
        "with open(DATASET_PATH + FILENAME_TRAIN) as file:\n",
        "    lines = [re.sub(r'([^,])\"(\\s*[^\\n])', r'\\1/\"\\2', line) for line in file]\n",
        "    df_train = pd.read_csv(StringIO(''.join(lines)), escapechar=\"/\")\n",
        "with open(DATASET_PATH + FILENAME_TEST) as file:\n",
        "    lines = [re.sub(r'([^,])\"(\\s*[^\\n])', r'\\1/\"\\2', line) for line in file]\n",
        "    df_test = pd.read_csv(StringIO(''.join(lines)), escapechar=\"/\")\n",
        "df_train.to_csv(\"train_labels_captions.csv\")\n",
        "df_test.to_csv(\"test_labels_captions.csv\")\n",
        "\n",
        "# To get overview\n",
        "#print(df_test.describe)\n",
        "\n",
        "# Defining transforms\n",
        "\n",
        "resize = transforms.Resize(size=(INPUT_HEIGHT,\n",
        "        INPUT_WIDTH)) # Trying to resize to (INPUT_HEIGHT,INPUT_WIDTH)\n",
        "\n",
        "trainTransforms_basic = transforms.Compose(\n",
        "    [resize,transforms.ToTensor()])\n",
        "trainTransforms_augment = transforms.Compose(\n",
        "    [resize,transforms.RandomHorizontalFlip(),transforms.RandomAffine(degrees=90),transforms.RandomCrop(size=256,pad_if_needed=True),transforms.ColorJitter(),transforms.ToTensor()])\n",
        "#transforms.RandomCrop(size=124,padding=2,pad_if_needed=True)\n",
        "testTransforms = transforms.Compose([resize,transforms.ToTensor()])\n",
        "\n",
        "# Sampling method\n",
        "samples_weight = torch.load(\"/content/samples_weight.pt\") # For sampler\n",
        "weighted_sampler_full = WeightedRandomSampler(samples_weight, len(samples_weight))\n",
        "\n",
        "# Create dataloaders\n",
        "training_data = CustomImageDataset(df_train,DATASET_PATH+\"data/\",transform=trainTransforms_basic,transform_aug=trainTransforms_augment,target_transform=encode)\n",
        "test_data = CustomImageDataset(df_test,DATASET_PATH+\"data/\",transform=testTransforms,target_transform=None,targets_available=False)\n",
        "train_dataloader = DataLoader(training_data, batch_size=batch_size, sampler=weighted_sampler_full) #shuffle = True\n",
        "test_dataloader = DataLoader(test_data,shuffle=False)\n",
        "\n",
        "# Setup model\n",
        "model = CNN().to(device)\n",
        "# Can be used in BCE loss function:\n",
        "c_weights = pos_weight(df_train,barplot=False)\n",
        "print(\"Using loss weights: {}\".format(c_weights))\n",
        "loss = torch.nn.BCEWithLogitsLoss(c_weights.to(device))\n",
        "optimizer = torch.optim.Adam(model.parameters(), lr=lr, weight_decay=weight_decay)\n",
        "#optimizer = torch.optim.SGD(model.parameters(),lr=lr)\n",
        "print('Model initialized.')\n",
        "\n",
        "# Loading indices for 80/20 split of training data\n",
        "train_idx = np.load(\"/content/subset_train_indices.npy\")\n",
        "validation_idx = np.load(\"/content/validation_indices.npy\")\n",
        "# Loading sample weights to sample some classes more than others\n",
        "samples_weight_subset = torch.load(\"/content/samples_weight_subset.pt\")\n",
        "weigthed_sampler_subset = WeightedRandomSampler(samples_weight_subset,len(samples_weight_subset))\n",
        "\n",
        "# Subset dataset for train and val\n",
        "subset_train_dataset = Subset(training_data, train_idx)\n",
        "validation_dataset = Subset(training_data, validation_idx)\n",
        "subset_train_loader = DataLoader(subset_train_dataset, batch_size=batch_size,sampler=weigthed_sampler_subset) #shuffle=True)\n",
        "validation_loader = DataLoader(validation_dataset, shuffle=False)\n",
        "\n",
        "# Training\n",
        "log_interval = 100 # How often we print train loss\n",
        "train_losses, test_losses = train_network(log_interval,model, device, subset_train_loader, validation_loader,optimizer, loss,epochs=30)\n",
        "\n",
        "plt.figure(figsize=(15,4))\n",
        "plt.plot(train_losses,label=\"Training\")\n",
        "plt.plot(test_losses,label=\"Validation\")\n",
        "plt.ylabel(\"Loss\")\n",
        "plt.xlabel(\"Epochs\")\n",
        "plt.legend(loc='upper right')\n",
        "plt.show()\n",
        "\n",
        "# Testing on validation set and get\n",
        "test_loss, all_preds, all_targets = test(model, device, validation_loader, loss, thresholds=thresholds, target_available=True) # output predictions as tensors\n",
        "all_preds = np.asarray([np.asarray(tensor.cpu()) for tensor in all_preds])\n",
        "all_targets = np.asarray([np.asarray(tensor.cpu()) for tensor in all_targets])\n",
        "metrics = compute_metrics(all_preds,all_targets)\n",
        "print(metrics)"
      ],
      "metadata": {
        "colab": {
          "base_uri": "https://localhost:8080/",
          "height": 1000
        },
        "id": "hae78mIgE9gh",
        "outputId": "36c44aaa-c1a0-41c3-aaf1-315192f1a2f4"
      },
      "id": "hae78mIgE9gh",
      "execution_count": 5,
      "outputs": [
        {
          "output_type": "stream",
          "name": "stdout",
          "text": [
            "We are using GPU.\n",
            "tensor([22794.,  1162.,  4364.,  1272.,  1130.,  1394.,  1221.,  2210.,  1042.,\n",
            "         1471.,   604.,     0.,   605.,   251.,  1934.,  1099.,  1430.,  1525.,\n",
            "         1020.], dtype=torch.float64)\n",
            "Using loss weights: tensor([0.0110, 0.2160, 0.0575, 0.1973, 0.2221, 0.1801, 0.2056, 0.1136, 0.2409,\n",
            "        0.1706, 0.4156, 0.0054, 0.4149, 1.0000, 0.1298, 0.2284, 0.1755, 0.1646,\n",
            "        0.2461], dtype=torch.float64)\n",
            "Model initialized.\n"
          ]
        },
        {
          "output_type": "stream",
          "name": "stderr",
          "text": [
            "\r  0%|          | 0/30 [00:00<?, ?it/s]"
          ]
        },
        {
          "output_type": "stream",
          "name": "stdout",
          "text": [
            "\n",
            "Train Epoch: 0 [0/23996 (0%)]\tLoss: 0.160607\n"
          ]
        },
        {
          "output_type": "stream",
          "name": "stderr",
          "text": [
            "\r  3%|▎         | 1/30 [01:41<49:10, 101.73s/it]"
          ]
        },
        {
          "output_type": "stream",
          "name": "stdout",
          "text": [
            "\n",
            "Train Epoch: 1 [0/23996 (0%)]\tLoss: 0.042815\n"
          ]
        },
        {
          "output_type": "stream",
          "name": "stderr",
          "text": [
            "\r  7%|▋         | 2/30 [03:15<45:13, 96.92s/it] "
          ]
        },
        {
          "output_type": "stream",
          "name": "stdout",
          "text": [
            "\n",
            "Train Epoch: 2 [0/23996 (0%)]\tLoss: 0.038692\n"
          ]
        },
        {
          "output_type": "stream",
          "name": "stderr",
          "text": [
            "\r 10%|█         | 3/30 [04:50<43:11, 95.98s/it]"
          ]
        },
        {
          "output_type": "stream",
          "name": "stdout",
          "text": [
            "\n",
            "Train Epoch: 3 [0/23996 (0%)]\tLoss: 0.037277\n"
          ]
        },
        {
          "output_type": "stream",
          "name": "stderr",
          "text": [
            "\r 13%|█▎        | 4/30 [06:26<41:36, 96.01s/it]"
          ]
        },
        {
          "output_type": "stream",
          "name": "stdout",
          "text": [
            "\n",
            "Train Epoch: 4 [0/23996 (0%)]\tLoss: 0.039240\n"
          ]
        },
        {
          "output_type": "stream",
          "name": "stderr",
          "text": [
            "\r 17%|█▋        | 5/30 [08:01<39:55, 95.82s/it]"
          ]
        },
        {
          "output_type": "stream",
          "name": "stdout",
          "text": [
            "\n",
            "Train Epoch: 5 [0/23996 (0%)]\tLoss: 0.039688\n"
          ]
        },
        {
          "output_type": "stream",
          "name": "stderr",
          "text": [
            "\r 20%|██        | 6/30 [09:36<38:11, 95.50s/it]"
          ]
        },
        {
          "output_type": "stream",
          "name": "stdout",
          "text": [
            "\n",
            "Train Epoch: 6 [0/23996 (0%)]\tLoss: 0.033186\n"
          ]
        },
        {
          "output_type": "stream",
          "name": "stderr",
          "text": [
            "\r 23%|██▎       | 7/30 [11:12<36:40, 95.69s/it]"
          ]
        },
        {
          "output_type": "stream",
          "name": "stdout",
          "text": [
            "\n",
            "Train Epoch: 7 [0/23996 (0%)]\tLoss: 0.033694\n"
          ]
        },
        {
          "output_type": "stream",
          "name": "stderr",
          "text": [
            "\r 27%|██▋       | 8/30 [12:45<34:42, 94.66s/it]"
          ]
        },
        {
          "output_type": "stream",
          "name": "stdout",
          "text": [
            "\n",
            "Train Epoch: 8 [0/23996 (0%)]\tLoss: 0.036679\n"
          ]
        },
        {
          "output_type": "stream",
          "name": "stderr",
          "text": [
            "\r 30%|███       | 9/30 [14:18<32:57, 94.17s/it]"
          ]
        },
        {
          "output_type": "stream",
          "name": "stdout",
          "text": [
            "\n",
            "Train Epoch: 9 [0/23996 (0%)]\tLoss: 0.039103\n"
          ]
        },
        {
          "output_type": "stream",
          "name": "stderr",
          "text": [
            "\r 33%|███▎      | 10/30 [15:50<31:09, 93.46s/it]"
          ]
        },
        {
          "output_type": "stream",
          "name": "stdout",
          "text": [
            "\n",
            "Train Epoch: 10 [0/23996 (0%)]\tLoss: 0.035487\n"
          ]
        },
        {
          "output_type": "stream",
          "name": "stderr",
          "text": [
            "\r 37%|███▋      | 11/30 [17:23<29:34, 93.41s/it]"
          ]
        },
        {
          "output_type": "stream",
          "name": "stdout",
          "text": [
            "\n",
            "Train Epoch: 11 [0/23996 (0%)]\tLoss: 0.034683\n"
          ]
        },
        {
          "output_type": "stream",
          "name": "stderr",
          "text": [
            "\r 40%|████      | 12/30 [18:54<27:51, 92.87s/it]"
          ]
        },
        {
          "output_type": "stream",
          "name": "stdout",
          "text": [
            "\n",
            "Train Epoch: 12 [0/23996 (0%)]\tLoss: 0.033722\n"
          ]
        },
        {
          "output_type": "stream",
          "name": "stderr",
          "text": [
            "\r 43%|████▎     | 13/30 [20:26<26:13, 92.54s/it]"
          ]
        },
        {
          "output_type": "stream",
          "name": "stdout",
          "text": [
            "\n",
            "Train Epoch: 13 [0/23996 (0%)]\tLoss: 0.037336\n"
          ]
        },
        {
          "output_type": "stream",
          "name": "stderr",
          "text": [
            "\r 47%|████▋     | 14/30 [21:59<24:41, 92.60s/it]"
          ]
        },
        {
          "output_type": "stream",
          "name": "stdout",
          "text": [
            "\n",
            "Train Epoch: 14 [0/23996 (0%)]\tLoss: 0.036873\n"
          ]
        },
        {
          "output_type": "stream",
          "name": "stderr",
          "text": [
            "\r 50%|█████     | 15/30 [23:32<23:11, 92.79s/it]"
          ]
        },
        {
          "output_type": "stream",
          "name": "stdout",
          "text": [
            "\n",
            "Train Epoch: 15 [0/23996 (0%)]\tLoss: 0.033724\n"
          ]
        },
        {
          "output_type": "stream",
          "name": "stderr",
          "text": [
            "\r 53%|█████▎    | 16/30 [25:04<21:35, 92.55s/it]"
          ]
        },
        {
          "output_type": "stream",
          "name": "stdout",
          "text": [
            "\n",
            "Train Epoch: 16 [0/23996 (0%)]\tLoss: 0.032877\n"
          ]
        },
        {
          "output_type": "stream",
          "name": "stderr",
          "text": [
            "\r 57%|█████▋    | 17/30 [26:36<19:58, 92.19s/it]"
          ]
        },
        {
          "output_type": "stream",
          "name": "stdout",
          "text": [
            "\n",
            "Train Epoch: 17 [0/23996 (0%)]\tLoss: 0.033950\n"
          ]
        },
        {
          "output_type": "stream",
          "name": "stderr",
          "text": [
            "\r 60%|██████    | 18/30 [28:08<18:25, 92.14s/it]"
          ]
        },
        {
          "output_type": "stream",
          "name": "stdout",
          "text": [
            "\n",
            "Train Epoch: 18 [0/23996 (0%)]\tLoss: 0.031225\n"
          ]
        },
        {
          "output_type": "stream",
          "name": "stderr",
          "text": [
            "\r 63%|██████▎   | 19/30 [29:40<16:53, 92.14s/it]"
          ]
        },
        {
          "output_type": "stream",
          "name": "stdout",
          "text": [
            "\n",
            "Train Epoch: 19 [0/23996 (0%)]\tLoss: 0.032740\n"
          ]
        },
        {
          "output_type": "stream",
          "name": "stderr",
          "text": [
            "\r 67%|██████▋   | 20/30 [31:11<15:19, 91.98s/it]"
          ]
        },
        {
          "output_type": "stream",
          "name": "stdout",
          "text": [
            "\n",
            "Train Epoch: 20 [0/23996 (0%)]\tLoss: 0.034560\n"
          ]
        },
        {
          "output_type": "stream",
          "name": "stderr",
          "text": [
            "\r 70%|███████   | 21/30 [32:42<13:45, 91.68s/it]"
          ]
        },
        {
          "output_type": "stream",
          "name": "stdout",
          "text": [
            "\n",
            "Train Epoch: 21 [0/23996 (0%)]\tLoss: 0.035407\n"
          ]
        },
        {
          "output_type": "stream",
          "name": "stderr",
          "text": [
            "\r 73%|███████▎  | 22/30 [34:14<12:13, 91.72s/it]"
          ]
        },
        {
          "output_type": "stream",
          "name": "stdout",
          "text": [
            "\n",
            "Train Epoch: 22 [0/23996 (0%)]\tLoss: 0.034515\n"
          ]
        },
        {
          "output_type": "stream",
          "name": "stderr",
          "text": [
            "\r 77%|███████▋  | 23/30 [35:46<10:43, 91.86s/it]"
          ]
        },
        {
          "output_type": "stream",
          "name": "stdout",
          "text": [
            "\n",
            "Train Epoch: 23 [0/23996 (0%)]\tLoss: 0.039629\n"
          ]
        },
        {
          "output_type": "stream",
          "name": "stderr",
          "text": [
            "\r 80%|████████  | 24/30 [37:19<09:11, 91.97s/it]"
          ]
        },
        {
          "output_type": "stream",
          "name": "stdout",
          "text": [
            "\n",
            "Train Epoch: 24 [0/23996 (0%)]\tLoss: 0.034012\n"
          ]
        },
        {
          "output_type": "stream",
          "name": "stderr",
          "text": [
            "\r 83%|████████▎ | 25/30 [38:50<07:39, 91.89s/it]"
          ]
        },
        {
          "output_type": "stream",
          "name": "stdout",
          "text": [
            "\n",
            "Train Epoch: 25 [0/23996 (0%)]\tLoss: 0.033976\n"
          ]
        },
        {
          "output_type": "stream",
          "name": "stderr",
          "text": [
            "\r 87%|████████▋ | 26/30 [40:22<06:07, 91.77s/it]"
          ]
        },
        {
          "output_type": "stream",
          "name": "stdout",
          "text": [
            "\n",
            "Train Epoch: 26 [0/23996 (0%)]\tLoss: 0.035109\n"
          ]
        },
        {
          "output_type": "stream",
          "name": "stderr",
          "text": [
            "\r 90%|█████████ | 27/30 [41:54<04:35, 91.90s/it]"
          ]
        },
        {
          "output_type": "stream",
          "name": "stdout",
          "text": [
            "\n",
            "Train Epoch: 27 [0/23996 (0%)]\tLoss: 0.031168\n"
          ]
        },
        {
          "output_type": "stream",
          "name": "stderr",
          "text": [
            "\r 93%|█████████▎| 28/30 [43:27<03:04, 92.26s/it]"
          ]
        },
        {
          "output_type": "stream",
          "name": "stdout",
          "text": [
            "\n",
            "Train Epoch: 28 [0/23996 (0%)]\tLoss: 0.029488\n"
          ]
        },
        {
          "output_type": "stream",
          "name": "stderr",
          "text": [
            "\r 97%|█████████▋| 29/30 [44:59<01:32, 92.17s/it]"
          ]
        },
        {
          "output_type": "stream",
          "name": "stdout",
          "text": [
            "\n",
            "Train Epoch: 29 [0/23996 (0%)]\tLoss: 0.035951\n"
          ]
        },
        {
          "output_type": "stream",
          "name": "stderr",
          "text": [
            "100%|██████████| 30/30 [46:31<00:00, 93.06s/it]\n"
          ]
        },
        {
          "output_type": "display_data",
          "data": {
            "text/plain": [
              "<Figure size 1500x400 with 1 Axes>"
            ],
            "image/png": "[encoded data removed]"
          },
          "metadata": {}
        },
        {
          "output_type": "error",
          "ename": "UnboundLocalError",
          "evalue": "cannot access local variable 'precision' where it is not associated with a value",
          "traceback": [
            "\u001b[0;31m---------------------------------------------------------------------------\u001b[0m",
            "\u001b[0;31mUnboundLocalError\u001b[0m                         Traceback (most recent call last)",
            "\u001b[0;32m<ipython-input-5-7f6a94a5ee6a>\u001b[0m in \u001b[0;36m<cell line: 0>\u001b[0;34m()\u001b[0m\n\u001b[1;32m    111\u001b[0m \u001b[0mall_preds\u001b[0m \u001b[0;34m=\u001b[0m \u001b[0mnp\u001b[0m\u001b[0;34m.\u001b[0m\u001b[0masarray\u001b[0m\u001b[0;34m(\u001b[0m\u001b[0;34m[\u001b[0m\u001b[0mnp\u001b[0m\u001b[0;34m.\u001b[0m\u001b[0masarray\u001b[0m\u001b[0;34m(\u001b[0m\u001b[0mtensor\u001b[0m\u001b[0;34m.\u001b[0m\u001b[0mcpu\u001b[0m\u001b[0;34m(\u001b[0m\u001b[0;34m)\u001b[0m\u001b[0;34m)\u001b[0m \u001b[0;32mfor\u001b[0m \u001b[0mtensor\u001b[0m \u001b[0;32min\u001b[0m \u001b[0mall_preds\u001b[0m\u001b[0;34m]\u001b[0m\u001b[0;34m)\u001b[0m\u001b[0;34m\u001b[0m\u001b[0;34m\u001b[0m\u001b[0m\n\u001b[1;32m    112\u001b[0m \u001b[0mall_targets\u001b[0m \u001b[0;34m=\u001b[0m \u001b[0mnp\u001b[0m\u001b[0;34m.\u001b[0m\u001b[0masarray\u001b[0m\u001b[0;34m(\u001b[0m\u001b[0;34m[\u001b[0m\u001b[0mnp\u001b[0m\u001b[0;34m.\u001b[0m\u001b[0masarray\u001b[0m\u001b[0;34m(\u001b[0m\u001b[0mtensor\u001b[0m\u001b[0;34m.\u001b[0m\u001b[0mcpu\u001b[0m\u001b[0;34m(\u001b[0m\u001b[0;34m)\u001b[0m\u001b[0;34m)\u001b[0m \u001b[0;32mfor\u001b[0m \u001b[0mtensor\u001b[0m \u001b[0;32min\u001b[0m \u001b[0mall_targets\u001b[0m\u001b[0;34m]\u001b[0m\u001b[0;34m)\u001b[0m\u001b[0;34m\u001b[0m\u001b[0;34m\u001b[0m\u001b[0m\n\u001b[0;32m--> 113\u001b[0;31m \u001b[0mmetrics\u001b[0m \u001b[0;34m=\u001b[0m \u001b[0mcompute_metrics\u001b[0m\u001b[0;34m(\u001b[0m\u001b[0mall_preds\u001b[0m\u001b[0;34m,\u001b[0m\u001b[0mall_targets\u001b[0m\u001b[0;34m)\u001b[0m\u001b[0;34m\u001b[0m\u001b[0;34m\u001b[0m\u001b[0m\n\u001b[0m\u001b[1;32m    114\u001b[0m \u001b[0mprint\u001b[0m\u001b[0;34m(\u001b[0m\u001b[0mmetrics\u001b[0m\u001b[0;34m)\u001b[0m\u001b[0;34m\u001b[0m\u001b[0;34m\u001b[0m\u001b[0m\n",
            "\u001b[0;32m/content/metrics.py\u001b[0m in \u001b[0;36mcompute_metrics\u001b[0;34m(pred, target)\u001b[0m\n\u001b[1;32m     50\u001b[0m \u001b[0;34m\u001b[0m\u001b[0m\n\u001b[1;32m     51\u001b[0m \u001b[0;32mdef\u001b[0m \u001b[0mcompute_metrics\u001b[0m\u001b[0;34m(\u001b[0m\u001b[0mpred\u001b[0m\u001b[0;34m,\u001b[0m\u001b[0mtarget\u001b[0m\u001b[0;34m)\u001b[0m\u001b[0;34m:\u001b[0m\u001b[0;34m\u001b[0m\u001b[0;34m\u001b[0m\u001b[0m\n\u001b[0;32m---> 52\u001b[0;31m     \u001b[0mmetrics\u001b[0m \u001b[0;34m=\u001b[0m \u001b[0mdict\u001b[0m\u001b[0;34m(\u001b[0m\u001b[0mF1_score\u001b[0m\u001b[0;34m=\u001b[0m\u001b[0mF1\u001b[0m\u001b[0;34m(\u001b[0m\u001b[0mpred\u001b[0m\u001b[0;34m,\u001b[0m\u001b[0mtarget\u001b[0m\u001b[0;34m)\u001b[0m\u001b[0;34m,\u001b[0m\u001b[0maccuracy\u001b[0m\u001b[0;34m=\u001b[0m\u001b[0maccuracy\u001b[0m\u001b[0;34m(\u001b[0m\u001b[0mpred\u001b[0m\u001b[0;34m,\u001b[0m\u001b[0mtarget\u001b[0m\u001b[0;34m)\u001b[0m\u001b[0;34m,\u001b[0m\u001b[0mprecision\u001b[0m\u001b[0;34m=\u001b[0m\u001b[0mprecision\u001b[0m\u001b[0;34m(\u001b[0m\u001b[0mpred\u001b[0m\u001b[0;34m,\u001b[0m\u001b[0mtarget\u001b[0m\u001b[0;34m)\u001b[0m\u001b[0;34m,\u001b[0m\u001b[0mrecall\u001b[0m\u001b[0;34m=\u001b[0m\u001b[0mrecall\u001b[0m\u001b[0;34m(\u001b[0m\u001b[0mpred\u001b[0m\u001b[0;34m,\u001b[0m\u001b[0mtarget\u001b[0m\u001b[0;34m)\u001b[0m\u001b[0;34m)\u001b[0m\u001b[0;34m\u001b[0m\u001b[0;34m\u001b[0m\u001b[0m\n\u001b[0m\u001b[1;32m     53\u001b[0m     \u001b[0;32mreturn\u001b[0m \u001b[0mmetrics\u001b[0m\u001b[0;34m\u001b[0m\u001b[0;34m\u001b[0m\u001b[0m\n",
            "\u001b[0;32m/content/metrics.py\u001b[0m in \u001b[0;36mF1\u001b[0;34m(pred, target)\u001b[0m\n\u001b[1;32m     41\u001b[0m \u001b[0;34m\u001b[0m\u001b[0m\n\u001b[1;32m     42\u001b[0m \u001b[0;32mdef\u001b[0m \u001b[0mF1\u001b[0m\u001b[0;34m(\u001b[0m\u001b[0mpred\u001b[0m\u001b[0;34m,\u001b[0m\u001b[0mtarget\u001b[0m\u001b[0;34m)\u001b[0m\u001b[0;34m:\u001b[0m\u001b[0;34m\u001b[0m\u001b[0;34m\u001b[0m\u001b[0m\n\u001b[0;32m---> 43\u001b[0;31m     \u001b[0mprecision\u001b[0m \u001b[0;34m=\u001b[0m \u001b[0mprecision\u001b[0m\u001b[0;34m(\u001b[0m\u001b[0mpred\u001b[0m\u001b[0;34m,\u001b[0m\u001b[0mtarget\u001b[0m\u001b[0;34m)\u001b[0m\u001b[0;34m\u001b[0m\u001b[0;34m\u001b[0m\u001b[0m\n\u001b[0m\u001b[1;32m     44\u001b[0m     \u001b[0mrecall\u001b[0m \u001b[0;34m=\u001b[0m \u001b[0mrecall\u001b[0m\u001b[0;34m(\u001b[0m\u001b[0mpred\u001b[0m\u001b[0;34m,\u001b[0m\u001b[0mtarget\u001b[0m\u001b[0;34m)\u001b[0m\u001b[0;34m\u001b[0m\u001b[0;34m\u001b[0m\u001b[0m\n\u001b[1;32m     45\u001b[0m     \u001b[0;32mif\u001b[0m \u001b[0mprecision\u001b[0m \u001b[0;34m+\u001b[0m \u001b[0mrecall\u001b[0m \u001b[0;34m==\u001b[0m \u001b[0;36m0\u001b[0m\u001b[0;34m:\u001b[0m\u001b[0;34m\u001b[0m\u001b[0;34m\u001b[0m\u001b[0m\n",
            "\u001b[0;31mUnboundLocalError\u001b[0m: cannot access local variable 'precision' where it is not associated with a value"
          ]
        }
      ]
    },
    {
      "cell_type": "code",
      "source": [
        "# -*- coding: utf-8 -*-\n",
        "\"\"\"\n",
        "Created on Mon May 19 12:43:20 2025\n",
        "\n",
        "@author: rosam\n",
        "\"\"\"\n",
        "\n",
        "import torch\n",
        "import numpy as np\n",
        "\n",
        "#function for performance evaluation metrics\n",
        "\n",
        "def recall(pred,target):\n",
        "    tp = (pred*target).sum().item()\n",
        "    fn = (np.maximum(target-pred,np.zeros_like(pred))).sum().item()\n",
        "    if tp == 0:\n",
        "        return 0\n",
        "    else:\n",
        "        rec = tp/(tp+fn)\n",
        "    return rec\n",
        "\n",
        "def precision(pred,target):\n",
        "    tp = (pred*target).sum().item()\n",
        "    fp = (np.maximum(pred-target,np.zeros_like(pred))).sum().item()\n",
        "    if tp == 0:\n",
        "        return 0\n",
        "    else:\n",
        "        prec = tp/(tp+fp)\n",
        "    return prec\n",
        "\n",
        "def accuracy(pred,target):\n",
        "    tp = (pred*target).sum().item()\n",
        "    fp = (np.maximum(pred-target,np.zeros_like(pred))).sum().item()\n",
        "    fn = (np.maximum(target-pred,np.zeros_like(pred))).sum().item()\n",
        "    tn = len(pred)*19 - (tp + fp + fn)\n",
        "    if tp + tn == 0:\n",
        "        return 0\n",
        "    else:\n",
        "        acc = (tp + tn) / (len(pred)*19)\n",
        "    return acc\n",
        "\n",
        "def F1(pred,target):\n",
        "    prec = precision(pred,target)\n",
        "    rec = recall(pred,target)\n",
        "    if prec + rec == 0:\n",
        "        return 0\n",
        "    else:\n",
        "        F1 = (2*prec*rec)/(prec+rec)\n",
        "    return F1\n",
        "\n",
        "def compute_metrics_new(pred,target):\n",
        "    metrics = dict(F1_score=F1(pred,target),accuracy=accuracy(pred,target),precision=precision(pred,target),recall=recall(pred,target))\n",
        "    return metrics\n",
        "test_loss, all_preds, all_targets = test(model, device, validation_loader, loss, thresholds=thresholds, target_available=True) # output predictions as tensors\n",
        "all_preds = np.asarray([pred.cpu() for pred in all_preds])\n",
        "all_targets = np.asarray([targ.cpu() for targ in all_targets])\n",
        "for label in range(1,20):\n",
        "  print(\"Metrics for class {}\".format(label))\n",
        "  print(compute_metrics_new(all_preds.squeeze()[:,label-1],all_targets.squeeze()[:,label-1]))\n",
        "print(\"Metrics for all classes\")\n",
        "print(compute_metrics_new(all_preds,all_targets))"
      ],
      "metadata": {
        "id": "ZwyGPVquugn1",
        "outputId": "125a3045-2ec1-4856-ae48-30c6b628704a",
        "colab": {
          "base_uri": "https://localhost:8080/"
        }
      },
      "id": "ZwyGPVquugn1",
      "execution_count": 7,
      "outputs": [
        {
          "output_type": "stream",
          "name": "stdout",
          "text": [
            "Metrics for class 1\n",
            "{'F1_score': 0.9776669557675628, 'accuracy': 0.9981929824561403, 'precision': 0.9713485566566136, 'recall': 0.9840680925360105}\n",
            "Metrics for class 2\n",
            "{'F1_score': 0, 'accuracy': 0.9980964912280702, 'precision': 0, 'recall': 0}\n",
            "Metrics for class 3\n",
            "{'F1_score': 0, 'accuracy': 0.9924912280701754, 'precision': 0, 'recall': 0}\n",
            "Metrics for class 4\n",
            "{'F1_score': 0, 'accuracy': 0.9978245614035087, 'precision': 0, 'recall': 0}\n",
            "Metrics for class 5\n",
            "{'F1_score': 0.3940298507462687, 'accuracy': 0.9982192982456141, 'precision': 0.584070796460177, 'recall': 0.2972972972972973}\n",
            "Metrics for class 6\n",
            "{'F1_score': 0.020833333333333336, 'accuracy': 0.9975263157894737, 'precision': 0.6, 'recall': 0.01060070671378092}\n",
            "Metrics for class 7\n",
            "{'F1_score': 0.0944206008583691, 'accuracy': 0.9981491228070175, 'precision': 0.7333333333333333, 'recall': 0.05045871559633028}\n",
            "Metrics for class 8\n",
            "{'F1_score': 0, 'accuracy': 0.9962456140350877, 'precision': 0, 'recall': 0}\n",
            "Metrics for class 9\n",
            "{'F1_score': 0, 'accuracy': 0.9982894736842105, 'precision': 0, 'recall': 0}\n",
            "Metrics for class 10\n",
            "{'F1_score': 0, 'accuracy': 0.9974912280701754, 'precision': 0, 'recall': 0}\n",
            "Metrics for class 11\n",
            "{'F1_score': 0, 'accuracy': 0.9990087719298245, 'precision': 0, 'recall': 0}\n",
            "Metrics for class 12\n",
            "{'F1_score': 0, 'accuracy': 1.0, 'precision': 0, 'recall': 0}\n",
            "Metrics for class 13\n",
            "{'F1_score': 0.07751937984496124, 'accuracy': 0.9989561403508772, 'precision': 0.8333333333333334, 'recall': 0.04065040650406504}\n",
            "Metrics for class 14\n",
            "{'F1_score': 0, 'accuracy': 0.9995877192982456, 'precision': 0, 'recall': 0}\n",
            "Metrics for class 15\n",
            "{'F1_score': 0, 'accuracy': 0.9965, 'precision': 0, 'recall': 0}\n",
            "Metrics for class 16\n",
            "{'F1_score': 0.0608695652173913, 'accuracy': 0.9981052631578947, 'precision': 0.5, 'recall': 0.032407407407407406}\n",
            "Metrics for class 17\n",
            "{'F1_score': 0.34517766497461927, 'accuracy': 0.9977368421052631, 'precision': 0.5964912280701754, 'recall': 0.24285714285714285}\n",
            "Metrics for class 18\n",
            "{'F1_score': 0, 'accuracy': 0.9973684210526316, 'precision': 0, 'recall': 0}\n",
            "Metrics for class 19\n",
            "{'F1_score': 0.00930232558139535, 'accuracy': 0.9981315789473684, 'precision': 0.5, 'recall': 0.004694835680751174}\n",
            "Metrics for all classes\n",
            "{'F1_score': 0.6606776543821178, 'accuracy': 0.9579210526315789, 'precision': 0.9509264915495825, 'recall': 0.5061781920659008}\n"
          ]
        }
      ]
    },
    {
      "cell_type": "code",
      "source": [
        "threshold_values = [0.5,0.45,0.4,0.35,0.3]\n",
        "validation_loader = DataLoader(validation_dataset, shuffle=False)\n",
        "thresholds = [0.5]*19\n",
        "best_thresholds = []\n",
        "for label in range(2,20):\n",
        "    print(\"Searching for label {}\".format(label))\n",
        "    best_F1 = 0\n",
        "    for idx in range(len(threshold_values)):\n",
        "        thresholds[label-1] = threshold_values[idx]\n",
        "        _, all_preds, all_targets = test(model, device, validation_loader, loss, thresholds=thresholds, target_available=True) # output predictions as tensors\n",
        "        all_preds = np.asarray([pred.cpu() for pred in all_preds])\n",
        "        all_targets = np.asarray([targ.cpu() for targ in all_targets])\n",
        "        F1_score = compute_metrics(all_preds,all_targets)[\"F1_score\"]\n",
        "        if F1_score > best_F1:\n",
        "            best_F1 = F1_score\n",
        "            best_threshold = threshold_values[idx]\n",
        "            best_thresholds.append(best_threshold)\n",
        "    print(\"Found best F1: {}\".format(best_F1))\n",
        "    print(\"Found best threshold {}\".format(best_threshold))\n",
        "    thresholds[label-1] = best_threshold\n",
        "print(\"Final Thresholds = {}\".format(thresholds))"
      ],
      "metadata": {
        "id": "ZYeDI6XS2gBo",
        "outputId": "754c7a2d-3b6c-4be0-ca33-f27a8664e5d1",
        "colab": {
          "base_uri": "https://localhost:8080/"
        }
      },
      "id": "ZYeDI6XS2gBo",
      "execution_count": null,
      "outputs": [
        {
          "output_type": "stream",
          "name": "stdout",
          "text": [
            "Searching for label 2\n",
            "Found best F1: 0.663791884631698\n",
            "Found best threshold 0.35\n",
            "Searching for label 3\n",
            "Found best F1: 0.6667128987517337\n",
            "Found best threshold 0.3\n",
            "Searching for label 4\n",
            "Found best F1: 0.6674057649667406\n",
            "Found best threshold 0.4\n",
            "Searching for label 5\n",
            "Found best F1: 0.6662981898576759\n",
            "Found best threshold 0.45\n",
            "Searching for label 6\n",
            "Found best F1: 0.6675383662514623\n",
            "Found best threshold 0.3\n",
            "Searching for label 7\n",
            "Found best F1: 0.667125740256163\n",
            "Found best threshold 0.5\n",
            "Searching for label 8\n",
            "Found best F1: 0.6689636163175302\n",
            "Found best threshold 0.4\n",
            "Searching for label 9\n",
            "Found best F1: 0.6685509444367848\n",
            "Found best threshold 0.3\n",
            "Searching for label 10\n",
            "Found best F1: 0.6677197802197802\n",
            "Found best threshold 0.35\n",
            "Searching for label 11\n",
            "Found best F1: 0.6664835542127308\n",
            "Found best threshold 0.4\n",
            "Searching for label 12\n",
            "Found best F1: 0.6675839295542102\n",
            "Found best threshold 0.4\n",
            "Searching for label 13\n",
            "Found best F1: 0.6680423717155042\n",
            "Found best threshold 0.4\n",
            "Searching for label 14\n",
            "Found best F1: 0.6670334961139005\n",
            "Found best threshold 0.45\n",
            "Searching for label 15\n",
            "Found best F1: 0.6668964566386323\n",
            "Found best threshold 0.35\n",
            "Searching for label 16\n",
            "Found best F1: 0.6668044646548159\n",
            "Found best threshold 0.45\n",
            "Searching for label 17\n"
          ]
        },
        {
          "output_type": "stream",
          "name": "stderr",
          "text": [
            "ERROR:root:Internal Python error in the inspect module.\n",
            "Below is the traceback from this internal error.\n",
            "\n",
            "ERROR:root:Internal Python error in the inspect module.\n",
            "Below is the traceback from this internal error.\n",
            "\n",
            "ERROR:root:Internal Python error in the inspect module.\n",
            "Below is the traceback from this internal error.\n",
            "\n"
          ]
        },
        {
          "output_type": "stream",
          "name": "stdout",
          "text": [
            "Traceback (most recent call last):\n",
            "  File \"/usr/local/lib/python3.11/dist-packages/IPython/core/interactiveshell.py\", line 3553, in run_code\n",
            "    exec(code_obj, self.user_global_ns, self.user_ns)\n",
            "  File \"<ipython-input-71-bcc6e729e3f2>\", line 10, in <cell line: 0>\n",
            "    _, all_preds, all_targets = test(model, device, validation_loader, loss, thresholds=thresholds, target_available=True) # output predictions as tensors\n",
            "                                ^^^^^^^^^^^^^^^^^^^^^^^^^^^^^^^^^^^^^^^^^^^^^^^^^^^^^^^^^^^^^^^^^^^^^^^^^^^^^^^^^^^^^^^^^^\n",
            "  File \"<ipython-input-62-e17ac7eb4db6>\", line 20, in test\n",
            "    for data, target in (test_loader):  # Iterate through the entire test set.\n",
            "  File \"/usr/local/lib/python3.11/dist-packages/torch/utils/data/dataloader.py\", line 708, in __next__\n",
            "    data = self._next_data()\n",
            "           ^^^^^^^^^^^^^^^^^\n",
            "  File \"/usr/local/lib/python3.11/dist-packages/torch/utils/data/dataloader.py\", line 764, in _next_data\n",
            "    data = self._dataset_fetcher.fetch(index)  # may raise StopIteration\n",
            "           ^^^^^^^^^^^^^^^^^^^^^^^^^^^^^^^^^^\n",
            "  File \"/usr/local/lib/python3.11/dist-packages/torch/utils/data/_utils/fetch.py\", line 50, in fetch\n",
            "    data = self.dataset.__getitems__(possibly_batched_index)\n",
            "           ^^^^^^^^^^^^^^^^^^^^^^^^^^^^^^^^^^^^^^^^^^^^^^^^^\n",
            "  File \"/usr/local/lib/python3.11/dist-packages/torch/utils/data/dataset.py\", line 420, in __getitems__\n",
            "    return [self.dataset[self.indices[idx]] for idx in indices]\n",
            "           ^^^^^^^^^^^^^^^^^^^^^^^^^^^^^^^^^^^^^^^^^^^^^^^^^^^^\n",
            "  File \"/usr/local/lib/python3.11/dist-packages/torch/utils/data/dataset.py\", line 420, in <listcomp>\n",
            "    return [self.dataset[self.indices[idx]] for idx in indices]\n",
            "            ~~~~~~~~~~~~^^^^^^^^^^^^^^^^^^^\n",
            "  File \"/content/Dataload.py\", line 61, in __getitem__\n",
            "    image = self.transform_aug(image)\n",
            "            ^^^^^^^^^^^^^^^^^^^^^^^^^\n",
            "  File \"/usr/local/lib/python3.11/dist-packages/torchvision/transforms/transforms.py\", line 95, in __call__\n",
            "    img = t(img)\n",
            "          ^^^^^^\n",
            "  File \"/usr/local/lib/python3.11/dist-packages/torch/nn/modules/module.py\", line 1739, in _wrapped_call_impl\n",
            "    return self._call_impl(*args, **kwargs)\n",
            "           ^^^^^^^^^^^^^^^^^^^^^^^^^^^^^^^^\n",
            "  File \"/usr/local/lib/python3.11/dist-packages/torch/nn/modules/module.py\", line 1750, in _call_impl\n",
            "    return forward_call(*args, **kwargs)\n",
            "           ^^^^^^^^^^^^^^^^^^^^^^^^^^^^^\n",
            "  File \"/usr/local/lib/python3.11/dist-packages/torchvision/transforms/transforms.py\", line None, in forward\n",
            "KeyboardInterrupt\n",
            "\n",
            "During handling of the above exception, another exception occurred:\n",
            "\n",
            "Traceback (most recent call last):\n",
            "  File \"/usr/local/lib/python3.11/dist-packages/IPython/core/interactiveshell.py\", line 2099, in showtraceback\n",
            "    stb = value._render_traceback_()\n",
            "          ^^^^^^^^^^^^^^^^^^^^^^^^\n",
            "AttributeError: 'KeyboardInterrupt' object has no attribute '_render_traceback_'\n",
            "\n",
            "During handling of the above exception, another exception occurred:\n",
            "\n",
            "Traceback (most recent call last):\n",
            "  File \"/usr/local/lib/python3.11/dist-packages/IPython/core/ultratb.py\", line 1101, in get_records\n",
            "    return _fixed_getinnerframes(etb, number_of_lines_of_context, tb_offset)\n",
            "           ^^^^^^^^^^^^^^^^^^^^^^^^^^^^^^^^^^^^^^^^^^^^^^^^^^^^^^^^^^^^^^^^^\n",
            "  File \"/usr/local/lib/python3.11/dist-packages/IPython/core/ultratb.py\", line 248, in wrapped\n",
            "    return f(*args, **kwargs)\n",
            "           ^^^^^^^^^^^^^^^^^^\n",
            "  File \"/usr/local/lib/python3.11/dist-packages/IPython/core/ultratb.py\", line 281, in _fixed_getinnerframes\n",
            "    records = fix_frame_records_filenames(inspect.getinnerframes(etb, context))\n",
            "                                          ^^^^^^^^^^^^^^^^^^^^^^^^^^^^^^^^^^^^\n",
            "  File \"/usr/lib/python3.11/inspect.py\", line 1739, in getinnerframes\n",
            "    traceback_info = getframeinfo(tb, context)\n",
            "                     ^^^^^^^^^^^^^^^^^^^^^^^^^\n",
            "  File \"/usr/lib/python3.11/inspect.py\", line 1686, in getframeinfo\n",
            "    start = lineno - 1 - context//2\n",
            "            ~~~~~~~^~~\n",
            "TypeError: unsupported operand type(s) for -: 'NoneType' and 'int'\n",
            "Traceback (most recent call last):\n",
            "  File \"/usr/local/lib/python3.11/dist-packages/IPython/core/interactiveshell.py\", line 3553, in run_code\n",
            "    exec(code_obj, self.user_global_ns, self.user_ns)\n",
            "  File \"<ipython-input-71-bcc6e729e3f2>\", line 10, in <cell line: 0>\n",
            "    _, all_preds, all_targets = test(model, device, validation_loader, loss, thresholds=thresholds, target_available=True) # output predictions as tensors\n",
            "                                ^^^^^^^^^^^^^^^^^^^^^^^^^^^^^^^^^^^^^^^^^^^^^^^^^^^^^^^^^^^^^^^^^^^^^^^^^^^^^^^^^^^^^^^^^^\n",
            "  File \"<ipython-input-62-e17ac7eb4db6>\", line 20, in test\n",
            "    for data, target in (test_loader):  # Iterate through the entire test set.\n",
            "  File \"/usr/local/lib/python3.11/dist-packages/torch/utils/data/dataloader.py\", line 708, in __next__\n",
            "    data = self._next_data()\n",
            "           ^^^^^^^^^^^^^^^^^\n",
            "  File \"/usr/local/lib/python3.11/dist-packages/torch/utils/data/dataloader.py\", line 764, in _next_data\n",
            "    data = self._dataset_fetcher.fetch(index)  # may raise StopIteration\n",
            "           ^^^^^^^^^^^^^^^^^^^^^^^^^^^^^^^^^^\n",
            "  File \"/usr/local/lib/python3.11/dist-packages/torch/utils/data/_utils/fetch.py\", line 50, in fetch\n",
            "    data = self.dataset.__getitems__(possibly_batched_index)\n",
            "           ^^^^^^^^^^^^^^^^^^^^^^^^^^^^^^^^^^^^^^^^^^^^^^^^^\n",
            "  File \"/usr/local/lib/python3.11/dist-packages/torch/utils/data/dataset.py\", line 420, in __getitems__\n",
            "    return [self.dataset[self.indices[idx]] for idx in indices]\n",
            "           ^^^^^^^^^^^^^^^^^^^^^^^^^^^^^^^^^^^^^^^^^^^^^^^^^^^^\n",
            "  File \"/usr/local/lib/python3.11/dist-packages/torch/utils/data/dataset.py\", line 420, in <listcomp>\n",
            "    return [self.dataset[self.indices[idx]] for idx in indices]\n",
            "            ~~~~~~~~~~~~^^^^^^^^^^^^^^^^^^^\n",
            "  File \"/content/Dataload.py\", line 61, in __getitem__\n",
            "    image = self.transform_aug(image)\n",
            "            ^^^^^^^^^^^^^^^^^^^^^^^^^\n",
            "  File \"/usr/local/lib/python3.11/dist-packages/torchvision/transforms/transforms.py\", line 95, in __call__\n",
            "    img = t(img)\n",
            "          ^^^^^^\n",
            "  File \"/usr/local/lib/python3.11/dist-packages/torch/nn/modules/module.py\", line 1739, in _wrapped_call_impl\n",
            "    return self._call_impl(*args, **kwargs)\n",
            "           ^^^^^^^^^^^^^^^^^^^^^^^^^^^^^^^^\n",
            "  File \"/usr/local/lib/python3.11/dist-packages/torch/nn/modules/module.py\", line 1750, in _call_impl\n",
            "    return forward_call(*args, **kwargs)\n",
            "           ^^^^^^^^^^^^^^^^^^^^^^^^^^^^^\n",
            "  File \"/usr/local/lib/python3.11/dist-packages/torchvision/transforms/transforms.py\", line None, in forward\n",
            "KeyboardInterrupt\n",
            "\n",
            "During handling of the above exception, another exception occurred:\n",
            "\n",
            "Traceback (most recent call last):\n",
            "  File \"/usr/local/lib/python3.11/dist-packages/IPython/core/interactiveshell.py\", line 2099, in showtraceback\n",
            "    stb = value._render_traceback_()\n",
            "          ^^^^^^^^^^^^^^^^^^^^^^^^\n",
            "AttributeError: 'KeyboardInterrupt' object has no attribute '_render_traceback_'\n",
            "\n",
            "During handling of the above exception, another exception occurred:\n",
            "\n",
            "Traceback (most recent call last):\n",
            "  File \"/usr/local/lib/python3.11/dist-packages/IPython/core/interactiveshell.py\", line 3473, in run_ast_nodes\n",
            "    if (await self.run_code(code, result,  async_=asy)):\n",
            "        ^^^^^^^^^^^^^^^^^^^^^^^^^^^^^^^^^^^^^^^^^^^^^^\n",
            "  File \"/usr/local/lib/python3.11/dist-packages/IPython/core/interactiveshell.py\", line 3575, in run_code\n",
            "    self.showtraceback(running_compiled_code=True)\n",
            "  File \"/usr/local/lib/python3.11/dist-packages/IPython/core/interactiveshell.py\", line 2101, in showtraceback\n",
            "    stb = self.InteractiveTB.structured_traceback(etype,\n",
            "          ^^^^^^^^^^^^^^^^^^^^^^^^^^^^^^^^^^^^^^^^^^^^^^\n",
            "  File \"/usr/local/lib/python3.11/dist-packages/IPython/core/ultratb.py\", line 1367, in structured_traceback\n",
            "    return FormattedTB.structured_traceback(\n",
            "           ^^^^^^^^^^^^^^^^^^^^^^^^^^^^^^^^^\n",
            "  File \"/usr/local/lib/python3.11/dist-packages/IPython/core/ultratb.py\", line 1267, in structured_traceback\n",
            "    return VerboseTB.structured_traceback(\n",
            "           ^^^^^^^^^^^^^^^^^^^^^^^^^^^^^^^\n",
            "  File \"/usr/local/lib/python3.11/dist-packages/IPython/core/ultratb.py\", line 1124, in structured_traceback\n",
            "    formatted_exception = self.format_exception_as_a_whole(etype, evalue, etb, number_of_lines_of_context,\n",
            "                          ^^^^^^^^^^^^^^^^^^^^^^^^^^^^^^^^^^^^^^^^^^^^^^^^^^^^^^^^^^^^^^^^^^^^^^^^^^^^^^^^\n",
            "  File \"/usr/local/lib/python3.11/dist-packages/IPython/core/ultratb.py\", line 1082, in format_exception_as_a_whole\n",
            "    last_unique, recursion_repeat = find_recursion(orig_etype, evalue, records)\n",
            "                                    ^^^^^^^^^^^^^^^^^^^^^^^^^^^^^^^^^^^^^^^^^^^\n",
            "  File \"/usr/local/lib/python3.11/dist-packages/IPython/core/ultratb.py\", line 382, in find_recursion\n",
            "    return len(records), 0\n",
            "           ^^^^^^^^^^^^\n",
            "TypeError: object of type 'NoneType' has no len()\n",
            "\n",
            "During handling of the above exception, another exception occurred:\n",
            "\n",
            "Traceback (most recent call last):\n",
            "  File \"/usr/local/lib/python3.11/dist-packages/IPython/core/interactiveshell.py\", line 2099, in showtraceback\n",
            "    stb = value._render_traceback_()\n",
            "          ^^^^^^^^^^^^^^^^^^^^^^^^\n",
            "AttributeError: 'TypeError' object has no attribute '_render_traceback_'\n",
            "\n",
            "During handling of the above exception, another exception occurred:\n",
            "\n",
            "Traceback (most recent call last):\n",
            "  File \"/usr/local/lib/python3.11/dist-packages/IPython/core/ultratb.py\", line 1101, in get_records\n",
            "    return _fixed_getinnerframes(etb, number_of_lines_of_context, tb_offset)\n",
            "           ^^^^^^^^^^^^^^^^^^^^^^^^^^^^^^^^^^^^^^^^^^^^^^^^^^^^^^^^^^^^^^^^^\n",
            "  File \"/usr/local/lib/python3.11/dist-packages/IPython/core/ultratb.py\", line 248, in wrapped\n",
            "    return f(*args, **kwargs)\n",
            "           ^^^^^^^^^^^^^^^^^^\n",
            "  File \"/usr/local/lib/python3.11/dist-packages/IPython/core/ultratb.py\", line 281, in _fixed_getinnerframes\n",
            "    records = fix_frame_records_filenames(inspect.getinnerframes(etb, context))\n",
            "                                          ^^^^^^^^^^^^^^^^^^^^^^^^^^^^^^^^^^^^\n",
            "  File \"/usr/lib/python3.11/inspect.py\", line 1739, in getinnerframes\n",
            "    traceback_info = getframeinfo(tb, context)\n",
            "                     ^^^^^^^^^^^^^^^^^^^^^^^^^\n",
            "  File \"/usr/lib/python3.11/inspect.py\", line 1686, in getframeinfo\n",
            "    start = lineno - 1 - context//2\n",
            "            ~~~~~~~^~~\n",
            "TypeError: unsupported operand type(s) for -: 'NoneType' and 'int'\n",
            "Traceback (most recent call last):\n",
            "  File \"/usr/local/lib/python3.11/dist-packages/IPython/core/interactiveshell.py\", line 3553, in run_code\n",
            "    exec(code_obj, self.user_global_ns, self.user_ns)\n",
            "  File \"<ipython-input-71-bcc6e729e3f2>\", line 10, in <cell line: 0>\n",
            "    _, all_preds, all_targets = test(model, device, validation_loader, loss, thresholds=thresholds, target_available=True) # output predictions as tensors\n",
            "                                ^^^^^^^^^^^^^^^^^^^^^^^^^^^^^^^^^^^^^^^^^^^^^^^^^^^^^^^^^^^^^^^^^^^^^^^^^^^^^^^^^^^^^^^^^^\n",
            "  File \"<ipython-input-62-e17ac7eb4db6>\", line 20, in test\n",
            "    for data, target in (test_loader):  # Iterate through the entire test set.\n",
            "  File \"/usr/local/lib/python3.11/dist-packages/torch/utils/data/dataloader.py\", line 708, in __next__\n",
            "    data = self._next_data()\n",
            "           ^^^^^^^^^^^^^^^^^\n",
            "  File \"/usr/local/lib/python3.11/dist-packages/torch/utils/data/dataloader.py\", line 764, in _next_data\n",
            "    data = self._dataset_fetcher.fetch(index)  # may raise StopIteration\n",
            "           ^^^^^^^^^^^^^^^^^^^^^^^^^^^^^^^^^^\n",
            "  File \"/usr/local/lib/python3.11/dist-packages/torch/utils/data/_utils/fetch.py\", line 50, in fetch\n",
            "    data = self.dataset.__getitems__(possibly_batched_index)\n",
            "           ^^^^^^^^^^^^^^^^^^^^^^^^^^^^^^^^^^^^^^^^^^^^^^^^^\n",
            "  File \"/usr/local/lib/python3.11/dist-packages/torch/utils/data/dataset.py\", line 420, in __getitems__\n",
            "    return [self.dataset[self.indices[idx]] for idx in indices]\n",
            "           ^^^^^^^^^^^^^^^^^^^^^^^^^^^^^^^^^^^^^^^^^^^^^^^^^^^^\n",
            "  File \"/usr/local/lib/python3.11/dist-packages/torch/utils/data/dataset.py\", line 420, in <listcomp>\n",
            "    return [self.dataset[self.indices[idx]] for idx in indices]\n",
            "            ~~~~~~~~~~~~^^^^^^^^^^^^^^^^^^^\n",
            "  File \"/content/Dataload.py\", line 61, in __getitem__\n",
            "    image = self.transform_aug(image)\n",
            "            ^^^^^^^^^^^^^^^^^^^^^^^^^\n",
            "  File \"/usr/local/lib/python3.11/dist-packages/torchvision/transforms/transforms.py\", line 95, in __call__\n",
            "    img = t(img)\n",
            "          ^^^^^^\n",
            "  File \"/usr/local/lib/python3.11/dist-packages/torch/nn/modules/module.py\", line 1739, in _wrapped_call_impl\n",
            "    return self._call_impl(*args, **kwargs)\n",
            "           ^^^^^^^^^^^^^^^^^^^^^^^^^^^^^^^^\n",
            "  File \"/usr/local/lib/python3.11/dist-packages/torch/nn/modules/module.py\", line 1750, in _call_impl\n",
            "    return forward_call(*args, **kwargs)\n",
            "           ^^^^^^^^^^^^^^^^^^^^^^^^^^^^^\n",
            "  File \"/usr/local/lib/python3.11/dist-packages/torchvision/transforms/transforms.py\", line None, in forward\n",
            "KeyboardInterrupt\n",
            "\n",
            "During handling of the above exception, another exception occurred:\n",
            "\n",
            "Traceback (most recent call last):\n",
            "  File \"/usr/local/lib/python3.11/dist-packages/IPython/core/interactiveshell.py\", line 2099, in showtraceback\n",
            "    stb = value._render_traceback_()\n",
            "          ^^^^^^^^^^^^^^^^^^^^^^^^\n",
            "AttributeError: 'KeyboardInterrupt' object has no attribute '_render_traceback_'\n",
            "\n",
            "During handling of the above exception, another exception occurred:\n",
            "\n",
            "Traceback (most recent call last):\n",
            "  File \"/usr/local/lib/python3.11/dist-packages/IPython/core/interactiveshell.py\", line 3473, in run_ast_nodes\n",
            "    if (await self.run_code(code, result,  async_=asy)):\n",
            "        ^^^^^^^^^^^^^^^^^^^^^^^^^^^^^^^^^^^^^^^^^^^^^^\n",
            "  File \"/usr/local/lib/python3.11/dist-packages/IPython/core/interactiveshell.py\", line 3575, in run_code\n",
            "    self.showtraceback(running_compiled_code=True)\n",
            "  File \"/usr/local/lib/python3.11/dist-packages/IPython/core/interactiveshell.py\", line 2101, in showtraceback\n",
            "    stb = self.InteractiveTB.structured_traceback(etype,\n",
            "          ^^^^^^^^^^^^^^^^^^^^^^^^^^^^^^^^^^^^^^^^^^^^^^\n",
            "  File \"/usr/local/lib/python3.11/dist-packages/IPython/core/ultratb.py\", line 1367, in structured_traceback\n",
            "    return FormattedTB.structured_traceback(\n",
            "           ^^^^^^^^^^^^^^^^^^^^^^^^^^^^^^^^^\n",
            "  File \"/usr/local/lib/python3.11/dist-packages/IPython/core/ultratb.py\", line 1267, in structured_traceback\n",
            "    return VerboseTB.structured_traceback(\n",
            "           ^^^^^^^^^^^^^^^^^^^^^^^^^^^^^^^\n",
            "  File \"/usr/local/lib/python3.11/dist-packages/IPython/core/ultratb.py\", line 1124, in structured_traceback\n",
            "    formatted_exception = self.format_exception_as_a_whole(etype, evalue, etb, number_of_lines_of_context,\n",
            "                          ^^^^^^^^^^^^^^^^^^^^^^^^^^^^^^^^^^^^^^^^^^^^^^^^^^^^^^^^^^^^^^^^^^^^^^^^^^^^^^^^\n",
            "  File \"/usr/local/lib/python3.11/dist-packages/IPython/core/ultratb.py\", line 1082, in format_exception_as_a_whole\n",
            "    last_unique, recursion_repeat = find_recursion(orig_etype, evalue, records)\n",
            "                                    ^^^^^^^^^^^^^^^^^^^^^^^^^^^^^^^^^^^^^^^^^^^\n",
            "  File \"/usr/local/lib/python3.11/dist-packages/IPython/core/ultratb.py\", line 382, in find_recursion\n",
            "    return len(records), 0\n",
            "           ^^^^^^^^^^^^\n",
            "TypeError: object of type 'NoneType' has no len()\n",
            "\n",
            "During handling of the above exception, another exception occurred:\n",
            "\n",
            "Traceback (most recent call last):\n",
            "  File \"/usr/local/lib/python3.11/dist-packages/IPython/core/interactiveshell.py\", line 2099, in showtraceback\n",
            "    stb = value._render_traceback_()\n",
            "          ^^^^^^^^^^^^^^^^^^^^^^^^\n",
            "AttributeError: 'TypeError' object has no attribute '_render_traceback_'\n",
            "\n",
            "During handling of the above exception, another exception occurred:\n",
            "\n",
            "Traceback (most recent call last):\n",
            "  File \"/usr/local/lib/python3.11/dist-packages/IPython/core/interactiveshell.py\", line 3030, in _run_cell\n",
            "    return runner(coro)\n",
            "           ^^^^^^^^^^^^\n",
            "  File \"/usr/local/lib/python3.11/dist-packages/IPython/core/async_helpers.py\", line 78, in _pseudo_sync_runner\n",
            "    coro.send(None)\n",
            "  File \"/usr/local/lib/python3.11/dist-packages/IPython/core/interactiveshell.py\", line 3257, in run_cell_async\n",
            "    has_raised = await self.run_ast_nodes(code_ast.body, cell_name,\n",
            "                 ^^^^^^^^^^^^^^^^^^^^^^^^^^^^^^^^^^^^^^^^^^^^^^^^^^\n",
            "  File \"/usr/local/lib/python3.11/dist-packages/IPython/core/interactiveshell.py\", line 3492, in run_ast_nodes\n",
            "    self.showtraceback()\n",
            "  File \"/usr/local/lib/python3.11/dist-packages/IPython/core/interactiveshell.py\", line 2101, in showtraceback\n",
            "    stb = self.InteractiveTB.structured_traceback(etype,\n",
            "          ^^^^^^^^^^^^^^^^^^^^^^^^^^^^^^^^^^^^^^^^^^^^^^\n",
            "  File \"/usr/local/lib/python3.11/dist-packages/IPython/core/ultratb.py\", line 1367, in structured_traceback\n",
            "    return FormattedTB.structured_traceback(\n",
            "           ^^^^^^^^^^^^^^^^^^^^^^^^^^^^^^^^^\n",
            "  File \"/usr/local/lib/python3.11/dist-packages/IPython/core/ultratb.py\", line 1267, in structured_traceback\n",
            "    return VerboseTB.structured_traceback(\n",
            "           ^^^^^^^^^^^^^^^^^^^^^^^^^^^^^^^\n",
            "  File \"/usr/local/lib/python3.11/dist-packages/IPython/core/ultratb.py\", line 1142, in structured_traceback\n",
            "    formatted_exceptions += self.format_exception_as_a_whole(etype, evalue, etb, lines_of_context,\n",
            "                            ^^^^^^^^^^^^^^^^^^^^^^^^^^^^^^^^^^^^^^^^^^^^^^^^^^^^^^^^^^^^^^^^^^^^^^\n",
            "  File \"/usr/local/lib/python3.11/dist-packages/IPython/core/ultratb.py\", line 1082, in format_exception_as_a_whole\n",
            "    last_unique, recursion_repeat = find_recursion(orig_etype, evalue, records)\n",
            "                                    ^^^^^^^^^^^^^^^^^^^^^^^^^^^^^^^^^^^^^^^^^^^\n",
            "  File \"/usr/local/lib/python3.11/dist-packages/IPython/core/ultratb.py\", line 382, in find_recursion\n",
            "    return len(records), 0\n",
            "           ^^^^^^^^^^^^\n",
            "TypeError: object of type 'NoneType' has no len()\n",
            "\n",
            "During handling of the above exception, another exception occurred:\n",
            "\n",
            "Traceback (most recent call last):\n",
            "  File \"/usr/local/lib/python3.11/dist-packages/IPython/core/interactiveshell.py\", line 2099, in showtraceback\n",
            "    stb = value._render_traceback_()\n",
            "          ^^^^^^^^^^^^^^^^^^^^^^^^\n",
            "AttributeError: 'TypeError' object has no attribute '_render_traceback_'\n",
            "\n",
            "During handling of the above exception, another exception occurred:\n",
            "\n",
            "Traceback (most recent call last):\n",
            "  File \"/usr/local/lib/python3.11/dist-packages/IPython/core/ultratb.py\", line 1101, in get_records\n",
            "    return _fixed_getinnerframes(etb, number_of_lines_of_context, tb_offset)\n",
            "           ^^^^^^^^^^^^^^^^^^^^^^^^^^^^^^^^^^^^^^^^^^^^^^^^^^^^^^^^^^^^^^^^^\n",
            "  File \"/usr/local/lib/python3.11/dist-packages/IPython/core/ultratb.py\", line 248, in wrapped\n",
            "    return f(*args, **kwargs)\n",
            "           ^^^^^^^^^^^^^^^^^^\n",
            "  File \"/usr/local/lib/python3.11/dist-packages/IPython/core/ultratb.py\", line 281, in _fixed_getinnerframes\n",
            "    records = fix_frame_records_filenames(inspect.getinnerframes(etb, context))\n",
            "                                          ^^^^^^^^^^^^^^^^^^^^^^^^^^^^^^^^^^^^\n",
            "  File \"/usr/lib/python3.11/inspect.py\", line 1739, in getinnerframes\n",
            "    traceback_info = getframeinfo(tb, context)\n",
            "                     ^^^^^^^^^^^^^^^^^^^^^^^^^\n",
            "  File \"/usr/lib/python3.11/inspect.py\", line 1686, in getframeinfo\n",
            "    start = lineno - 1 - context//2\n",
            "            ~~~~~~~^~~\n",
            "TypeError: unsupported operand type(s) for -: 'NoneType' and 'int'\n"
          ]
        }
      ]
    },
    {
      "cell_type": "code",
      "source": [
        "# save model, scores and plot and check size of model is under 100MB\n",
        "model_name = \"22_05_25_sampling-weighting\"\n",
        "\n",
        "def get_model_size_mb(model):\n",
        "    path = \"temp_model.pth\"\n",
        "    torch.save(model.state_dict(), path)\n",
        "    size_mb = os.path.getsize(path) / (1024 * 1024)\n",
        "    os.remove(path)\n",
        "    return size_mb\n",
        "\n",
        "path_name_model = \"/content/model_\" + model_name+\".pt\"\n",
        "path_name_plot = \"/content/model_\" + model_name + \"_losscurve.png\"\n",
        "path_name_scores = \"/content/model_\" + model_name + \"_scores.txt\"\n",
        "\n",
        "torch.save(model.state_dict(), path_name_model)\n",
        "print(f\"Model saved to {path_name_model}\")\n",
        "size_mb = os.path.getsize(path_name_model) / (1024 * 1024)\n",
        "print(f\"Model size: {size_mb} MB\")\n",
        "\n",
        "plt.figure(figsize=(15,4))\n",
        "plt.plot(train_losses,label=\"Training\")\n",
        "plt.plot(test_losses,label=\"Validation\")\n",
        "plt.ylabel(\"Loss\")\n",
        "plt.xlabel(\"Epochs\")\n",
        "plt.legend(loc='upper right')\n",
        "plt.savefig(path_name_plot)\n",
        "\n",
        "import json\n",
        "with open(path_name_scores, 'w') as file:\n",
        "     file.write(json.dumps(metrics))"
      ],
      "metadata": {
        "colab": {
          "base_uri": "https://localhost:8080/",
          "height": 256
        },
        "id": "yI8gKgxvU0Tr",
        "outputId": "ea20069f-6cef-4d66-e234-f4ad5bc42a4a"
      },
      "id": "yI8gKgxvU0Tr",
      "execution_count": null,
      "outputs": [
        {
          "output_type": "stream",
          "name": "stdout",
          "text": [
            "Model saved to /content/model_22_05_25_sampling-weighting.pt\n",
            "Model size: 24.062423706054688 MB\n"
          ]
        },
        {
          "output_type": "display_data",
          "data": {
            "text/plain": [
              "<Figure size 1500x400 with 1 Axes>"
            ],
            "image/png": "[encoded data removed]"
          },
          "metadata": {}
        }
      ]
    },
    {
      "cell_type": "code",
      "source": [
        "# Training new model on the full dataset\n",
        "model_full = CNN().to(device)\n",
        "#weights = pos_weight(df_train,barplot=False).to(device)\n",
        "loss = torch.nn.BCEWithLogitsLoss()\n",
        "optimizer_full = torch.optim.Adam(model_full.parameters(), lr=lr)\n",
        "print('Model initialized.')\n",
        "train_losses_full = train_network(log_interval,model_full, device, train_dataloader, test_loader=0,optimizer=optimizer_full, loss=loss,epochs=15)\n",
        "\n",
        "plt.figure(figsize=(15,4))\n",
        "plt.plot(train_losses_full,label=\"Training\")\n",
        "plt.ylabel(\"Loss\")\n",
        "plt.xlabel(\"Epochs\")\n",
        "plt.legend(loc='upper right')\n",
        "\n",
        "# Compute predictions for true test set\n",
        "thresholds_full = thresholds\n",
        "thresholds_full[11] = 1.1\n",
        "print(thresholds_full)\n",
        "test_pred = test(model_full, device, test_dataloader,loss,threshold=thresholds_full=full,target_available=False)"
      ],
      "metadata": {
        "id": "YgDEmbblCdgS",
        "colab": {
          "base_uri": "https://localhost:8080/",
          "height": 1000
        },
        "outputId": "6a69fae1-92fe-4d9e-996b-59e90f5ff0fe"
      },
      "id": "YgDEmbblCdgS",
      "execution_count": null,
      "outputs": [
        {
          "output_type": "stream",
          "name": "stdout",
          "text": [
            "Model initialized.\n"
          ]
        },
        {
          "output_type": "stream",
          "name": "stderr",
          "text": [
            "\r  0%|          | 0/15 [00:00<?, ?it/s]"
          ]
        },
        {
          "output_type": "stream",
          "name": "stdout",
          "text": [
            "\n",
            "Train Epoch: 0 [0/29996 (0%)]\tLoss: 0.712450\n",
            "\n",
            "Train Epoch: 0 [25600/29996 (85%)]\tLoss: 0.201422\n"
          ]
        },
        {
          "output_type": "stream",
          "name": "stderr",
          "text": [
            "\r  7%|▋         | 1/15 [01:22<19:11, 82.26s/it]"
          ]
        },
        {
          "output_type": "stream",
          "name": "stdout",
          "text": [
            "\n",
            "Train Epoch: 1 [0/29996 (0%)]\tLoss: 0.196943\n",
            "\n",
            "Train Epoch: 1 [25600/29996 (85%)]\tLoss: 0.208401\n"
          ]
        },
        {
          "output_type": "stream",
          "name": "stderr",
          "text": [
            "\r 13%|█▎        | 2/15 [02:44<17:46, 82.06s/it]"
          ]
        },
        {
          "output_type": "stream",
          "name": "stdout",
          "text": [
            "\n",
            "Train Epoch: 2 [0/29996 (0%)]\tLoss: 0.204597\n",
            "\n",
            "Train Epoch: 2 [25600/29996 (85%)]\tLoss: 0.187474\n"
          ]
        },
        {
          "output_type": "stream",
          "name": "stderr",
          "text": [
            "\r 20%|██        | 3/15 [04:06<16:25, 82.12s/it]"
          ]
        },
        {
          "output_type": "stream",
          "name": "stdout",
          "text": [
            "\n",
            "Train Epoch: 3 [0/29996 (0%)]\tLoss: 0.183027\n",
            "\n",
            "Train Epoch: 3 [25600/29996 (85%)]\tLoss: 0.185780\n"
          ]
        },
        {
          "output_type": "stream",
          "name": "stderr",
          "text": [
            "\r 27%|██▋       | 4/15 [05:28<15:01, 81.94s/it]"
          ]
        },
        {
          "output_type": "stream",
          "name": "stdout",
          "text": [
            "\n",
            "Train Epoch: 4 [0/29996 (0%)]\tLoss: 0.191189\n",
            "\n",
            "Train Epoch: 4 [25600/29996 (85%)]\tLoss: 0.182490\n"
          ]
        },
        {
          "output_type": "stream",
          "name": "stderr",
          "text": [
            "\r 33%|███▎      | 5/15 [06:49<13:38, 81.89s/it]"
          ]
        },
        {
          "output_type": "stream",
          "name": "stdout",
          "text": [
            "\n",
            "Train Epoch: 5 [0/29996 (0%)]\tLoss: 0.178798\n",
            "\n",
            "Train Epoch: 5 [25600/29996 (85%)]\tLoss: 0.167923\n"
          ]
        },
        {
          "output_type": "stream",
          "name": "stderr",
          "text": [
            "\r 40%|████      | 6/15 [08:11<12:16, 81.86s/it]"
          ]
        },
        {
          "output_type": "stream",
          "name": "stdout",
          "text": [
            "\n",
            "Train Epoch: 6 [0/29996 (0%)]\tLoss: 0.188909\n",
            "\n",
            "Train Epoch: 6 [25600/29996 (85%)]\tLoss: 0.179085\n"
          ]
        },
        {
          "output_type": "stream",
          "name": "stderr",
          "text": [
            "\r 47%|████▋     | 7/15 [09:33<10:54, 81.80s/it]"
          ]
        },
        {
          "output_type": "stream",
          "name": "stdout",
          "text": [
            "\n",
            "Train Epoch: 7 [0/29996 (0%)]\tLoss: 0.172485\n",
            "\n",
            "Train Epoch: 7 [25600/29996 (85%)]\tLoss: 0.172718\n"
          ]
        },
        {
          "output_type": "stream",
          "name": "stderr",
          "text": [
            "\r 53%|█████▎    | 8/15 [10:55<09:32, 81.82s/it]"
          ]
        },
        {
          "output_type": "stream",
          "name": "stdout",
          "text": [
            "\n",
            "Train Epoch: 8 [0/29996 (0%)]\tLoss: 0.186404\n",
            "\n",
            "Train Epoch: 8 [25600/29996 (85%)]\tLoss: 0.179902\n"
          ]
        },
        {
          "output_type": "stream",
          "name": "stderr",
          "text": [
            "\r 60%|██████    | 9/15 [12:16<08:10, 81.78s/it]"
          ]
        },
        {
          "output_type": "stream",
          "name": "stdout",
          "text": [
            "\n",
            "Train Epoch: 9 [0/29996 (0%)]\tLoss: 0.184572\n",
            "\n",
            "Train Epoch: 9 [25600/29996 (85%)]\tLoss: 0.188338\n"
          ]
        },
        {
          "output_type": "stream",
          "name": "stderr",
          "text": [
            "\r 67%|██████▋   | 10/15 [13:38<06:48, 81.77s/it]"
          ]
        },
        {
          "output_type": "stream",
          "name": "stdout",
          "text": [
            "\n",
            "Train Epoch: 10 [0/29996 (0%)]\tLoss: 0.183558\n",
            "\n",
            "Train Epoch: 10 [25600/29996 (85%)]\tLoss: 0.178932\n"
          ]
        },
        {
          "output_type": "stream",
          "name": "stderr",
          "text": [
            "\r 73%|███████▎  | 11/15 [15:00<05:27, 81.78s/it]"
          ]
        },
        {
          "output_type": "stream",
          "name": "stdout",
          "text": [
            "\n",
            "Train Epoch: 11 [0/29996 (0%)]\tLoss: 0.186202\n",
            "\n",
            "Train Epoch: 11 [25600/29996 (85%)]\tLoss: 0.167957\n"
          ]
        },
        {
          "output_type": "stream",
          "name": "stderr",
          "text": [
            "\r 80%|████████  | 12/15 [16:22<04:05, 81.75s/it]"
          ]
        },
        {
          "output_type": "stream",
          "name": "stdout",
          "text": [
            "\n",
            "Train Epoch: 12 [0/29996 (0%)]\tLoss: 0.174229\n",
            "\n",
            "Train Epoch: 12 [25600/29996 (85%)]\tLoss: 0.181039\n"
          ]
        },
        {
          "output_type": "stream",
          "name": "stderr",
          "text": [
            "\r 87%|████████▋ | 13/15 [17:44<02:43, 81.95s/it]"
          ]
        },
        {
          "output_type": "stream",
          "name": "stdout",
          "text": [
            "\n",
            "Train Epoch: 13 [0/29996 (0%)]\tLoss: 0.166970\n",
            "\n",
            "Train Epoch: 13 [25600/29996 (85%)]\tLoss: 0.178928\n"
          ]
        },
        {
          "output_type": "stream",
          "name": "stderr",
          "text": [
            "\r 93%|█████████▎| 14/15 [19:06<01:22, 82.06s/it]"
          ]
        },
        {
          "output_type": "stream",
          "name": "stdout",
          "text": [
            "\n",
            "Train Epoch: 14 [0/29996 (0%)]\tLoss: 0.181296\n",
            "\n",
            "Train Epoch: 14 [25600/29996 (85%)]\tLoss: 0.176649\n"
          ]
        },
        {
          "output_type": "stream",
          "name": "stderr",
          "text": [
            "100%|██████████| 15/15 [20:29<00:00, 81.97s/it]\n",
            "100%|██████████| 10000/10000 [00:35<00:00, 281.25it/s]\n"
          ]
        },
        {
          "output_type": "stream",
          "name": "stdout",
          "text": [
            "\n",
            "Predictions computed for test set.\n"
          ]
        },
        {
          "output_type": "display_data",
          "data": {
            "text/plain": [
              "<Figure size 1500x400 with 1 Axes>"
            ],
            "image/png": "[encoded data removed]"
          },
          "metadata": {}
        }
      ]
    },
    {
      "cell_type": "code",
      "source": [
        "# Convert predictions to csv\n",
        "from tqdm import tqdm\n",
        "import numpy as np\n",
        "\n",
        "def get_class(array):\n",
        "  return np.where(array > 0.5)[1] +1\n",
        "\n",
        "def unencode(y_pred):\n",
        "  labels = []\n",
        "  for i in tqdm(range(len(y_pred))):\n",
        "    temp = y_pred[i].cpu()\n",
        "    temp = np.asarray(temp)\n",
        "    temp = get_class(temp)\n",
        "    temp = \" \".join(str(item) for item in temp)\n",
        "    labels.append(temp)\n",
        "  return labels\n",
        "\n",
        "#cpu_preds = torch.tensor(val_pred, device =  'cpu')\n",
        "pred_labels= unencode(test_pred)\n",
        "pred_df = df_test.copy()\n",
        "pred_df = pred_df.drop(\"Caption\",axis=1)\n",
        "pred_df[\"Labels\"] = pred_labels\n",
        "print(\"Submission dataframe:\")\n",
        "print(pred_df.describe)\n",
        "submission_name = \"/content/submission_newest.csv\"\n",
        "pred_df.to_csv(submission_name,index=False)\n",
        "print(f\"Predictions saved as {submission_name}\")"
      ],
      "metadata": {
        "id": "zcZSgKoG5KtF",
        "colab": {
          "base_uri": "https://localhost:8080/"
        },
        "outputId": "99738b96-f6b5-4f8a-da9a-345d7d0b0edd"
      },
      "id": "zcZSgKoG5KtF",
      "execution_count": null,
      "outputs": [
        {
          "output_type": "stream",
          "name": "stderr",
          "text": [
            "100%|██████████| 10000/10000 [00:00<00:00, 23759.32it/s]"
          ]
        },
        {
          "output_type": "stream",
          "name": "stdout",
          "text": [
            "Submission dataframe:\n",
            "<bound method NDFrame.describe of         ImageID Labels\n",
            "0     30000.jpg       \n",
            "1     30001.jpg      1\n",
            "2     30002.jpg      1\n",
            "3     30003.jpg      1\n",
            "4     30004.jpg      1\n",
            "...         ...    ...\n",
            "9995  39995.jpg      1\n",
            "9996  39996.jpg      1\n",
            "9997  39997.jpg      1\n",
            "9998  39998.jpg      1\n",
            "9999  39999.jpg      1\n",
            "\n",
            "[10000 rows x 2 columns]>\n",
            "Predictions saved as /content/submission_newest.csv\n"
          ]
        },
        {
          "output_type": "stream",
          "name": "stderr",
          "text": [
            "\n"
          ]
        }
      ]
    },
    {
      "cell_type": "code",
      "source": [
        "# Submit predictions\n",
        "! kaggle competitions submit -c multi-label-classification-competition-2025 -f /content/submission.csv -m \"playing with thresholds\""
      ],
      "metadata": {
        "id": "jPrAkup83tGG",
        "colab": {
          "base_uri": "https://localhost:8080/"
        },
        "outputId": "12e23104-daea-46c1-851e-740fe4134120"
      },
      "id": "jPrAkup83tGG",
      "execution_count": null,
      "outputs": [
        {
          "output_type": "stream",
          "name": "stdout",
          "text": [
            "[Errno 2] No such file or directory: '/content/submission.csv'\n"
          ]
        }
      ]
    }
  ],
  "metadata": {
    "language_info": {
      "name": "python"
    },
    "colab": {
      "provenance": [],
      "gpuType": "L4",
      "machine_shape": "hm",
      "include_colab_link": true
    },
    "kernelspec": {
      "name": "python3",
      "display_name": "Python 3"
    },
    "accelerator": "GPU"
  },
  "nbformat": 4,
  "nbformat_minor": 5
}