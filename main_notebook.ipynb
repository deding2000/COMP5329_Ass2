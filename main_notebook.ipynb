{
  "cells": [
    {
      "cell_type": "markdown",
      "metadata": {
        "id": "view-in-github",
        "colab_type": "text"
      },
      "source": [
        "<a href=\"https://colab.research.google.com/github/deding2000/COMP5329_Ass2/blob/main/main_notebook.ipynb\" target=\"_parent\"><img src=\"https://colab.research.google.com/assets/colab-badge.svg\" alt=\"Open In Colab\"/></a>"
      ]
    },
    {
      "cell_type": "code",
      "execution_count": null,
      "id": "7b8ec581",
      "metadata": {
        "vscode": {
          "languageId": "plaintext"
        },
        "colab": {
          "base_uri": "https://localhost:8080/"
        },
        "id": "7b8ec581",
        "outputId": "546900de-64dd-4a37-c5cc-396b15840297"
      },
      "outputs": [
        {
          "output_type": "stream",
          "name": "stdout",
          "text": [
            "Mounted at /content/drive\n"
          ]
        }
      ],
      "source": [
        "# Not needed before we upload files to google drive\n",
        "from google.colab import drive\n",
        "drive.mount('/content/drive')"
      ]
    },
    {
      "cell_type": "code",
      "source": [
        "from google.colab import files\n",
        "uploaded = files.upload() # select all python files from the github page and kaggle.json"
      ],
      "metadata": {
        "id": "GX_AvoqV4L6x",
        "outputId": "dc4e68b4-f80c-4134-de02-59eaef90cbbc",
        "colab": {
          "base_uri": "https://localhost:8080/",
          "height": 281
        }
      },
      "id": "GX_AvoqV4L6x",
      "execution_count": 1,
      "outputs": [
        {
          "output_type": "display_data",
          "data": {
            "text/plain": [
              "<IPython.core.display.HTML object>"
            ],
            "text/html": [
              "\n",
              "     <input type=\"file\" id=\"files-574817a0-c682-4705-8cf8-2b67e67e45e2\" name=\"files[]\" multiple disabled\n",
              "        style=\"border:none\" />\n",
              "     <output id=\"result-574817a0-c682-4705-8cf8-2b67e67e45e2\">\n",
              "      Upload widget is only available when the cell has been executed in the\n",
              "      current browser session. Please rerun this cell to enable.\n",
              "      </output>\n",
              "      <script>// Copyright 2017 Google LLC\n",
              "//\n",
              "// Licensed under the Apache License, Version 2.0 (the \"License\");\n",
              "// you may not use this file except in compliance with the License.\n",
              "// You may obtain a copy of the License at\n",
              "//\n",
              "//      http://www.apache.org/licenses/LICENSE-2.0\n",
              "//\n",
              "// Unless required by applicable law or agreed to in writing, software\n",
              "// distributed under the License is distributed on an \"AS IS\" BASIS,\n",
              "// WITHOUT WARRANTIES OR CONDITIONS OF ANY KIND, either express or implied.\n",
              "// See the License for the specific language governing permissions and\n",
              "// limitations under the License.\n",
              "\n",
              "/**\n",
              " * @fileoverview Helpers for google.colab Python module.\n",
              " */\n",
              "(function(scope) {\n",
              "function span(text, styleAttributes = {}) {\n",
              "  const element = document.createElement('span');\n",
              "  element.textContent = text;\n",
              "  for (const key of Object.keys(styleAttributes)) {\n",
              "    element.style[key] = styleAttributes[key];\n",
              "  }\n",
              "  return element;\n",
              "}\n",
              "\n",
              "// Max number of bytes which will be uploaded at a time.\n",
              "const MAX_PAYLOAD_SIZE = 100 * 1024;\n",
              "\n",
              "function _uploadFiles(inputId, outputId) {\n",
              "  const steps = uploadFilesStep(inputId, outputId);\n",
              "  const outputElement = document.getElementById(outputId);\n",
              "  // Cache steps on the outputElement to make it available for the next call\n",
              "  // to uploadFilesContinue from Python.\n",
              "  outputElement.steps = steps;\n",
              "\n",
              "  return _uploadFilesContinue(outputId);\n",
              "}\n",
              "\n",
              "// This is roughly an async generator (not supported in the browser yet),\n",
              "// where there are multiple asynchronous steps and the Python side is going\n",
              "// to poll for completion of each step.\n",
              "// This uses a Promise to block the python side on completion of each step,\n",
              "// then passes the result of the previous step as the input to the next step.\n",
              "function _uploadFilesContinue(outputId) {\n",
              "  const outputElement = document.getElementById(outputId);\n",
              "  const steps = outputElement.steps;\n",
              "\n",
              "  const next = steps.next(outputElement.lastPromiseValue);\n",
              "  return Promise.resolve(next.value.promise).then((value) => {\n",
              "    // Cache the last promise value to make it available to the next\n",
              "    // step of the generator.\n",
              "    outputElement.lastPromiseValue = value;\n",
              "    return next.value.response;\n",
              "  });\n",
              "}\n",
              "\n",
              "/**\n",
              " * Generator function which is called between each async step of the upload\n",
              " * process.\n",
              " * @param {string} inputId Element ID of the input file picker element.\n",
              " * @param {string} outputId Element ID of the output display.\n",
              " * @return {!Iterable<!Object>} Iterable of next steps.\n",
              " */\n",
              "function* uploadFilesStep(inputId, outputId) {\n",
              "  const inputElement = document.getElementById(inputId);\n",
              "  inputElement.disabled = false;\n",
              "\n",
              "  const outputElement = document.getElementById(outputId);\n",
              "  outputElement.innerHTML = '';\n",
              "\n",
              "  const pickedPromise = new Promise((resolve) => {\n",
              "    inputElement.addEventListener('change', (e) => {\n",
              "      resolve(e.target.files);\n",
              "    });\n",
              "  });\n",
              "\n",
              "  const cancel = document.createElement('button');\n",
              "  inputElement.parentElement.appendChild(cancel);\n",
              "  cancel.textContent = 'Cancel upload';\n",
              "  const cancelPromise = new Promise((resolve) => {\n",
              "    cancel.onclick = () => {\n",
              "      resolve(null);\n",
              "    };\n",
              "  });\n",
              "\n",
              "  // Wait for the user to pick the files.\n",
              "  const files = yield {\n",
              "    promise: Promise.race([pickedPromise, cancelPromise]),\n",
              "    response: {\n",
              "      action: 'starting',\n",
              "    }\n",
              "  };\n",
              "\n",
              "  cancel.remove();\n",
              "\n",
              "  // Disable the input element since further picks are not allowed.\n",
              "  inputElement.disabled = true;\n",
              "\n",
              "  if (!files) {\n",
              "    return {\n",
              "      response: {\n",
              "        action: 'complete',\n",
              "      }\n",
              "    };\n",
              "  }\n",
              "\n",
              "  for (const file of files) {\n",
              "    const li = document.createElement('li');\n",
              "    li.append(span(file.name, {fontWeight: 'bold'}));\n",
              "    li.append(span(\n",
              "        `(${file.type || 'n/a'}) - ${file.size} bytes, ` +\n",
              "        `last modified: ${\n",
              "            file.lastModifiedDate ? file.lastModifiedDate.toLocaleDateString() :\n",
              "                                    'n/a'} - `));\n",
              "    const percent = span('0% done');\n",
              "    li.appendChild(percent);\n",
              "\n",
              "    outputElement.appendChild(li);\n",
              "\n",
              "    const fileDataPromise = new Promise((resolve) => {\n",
              "      const reader = new FileReader();\n",
              "      reader.onload = (e) => {\n",
              "        resolve(e.target.result);\n",
              "      };\n",
              "      reader.readAsArrayBuffer(file);\n",
              "    });\n",
              "    // Wait for the data to be ready.\n",
              "    let fileData = yield {\n",
              "      promise: fileDataPromise,\n",
              "      response: {\n",
              "        action: 'continue',\n",
              "      }\n",
              "    };\n",
              "\n",
              "    // Use a chunked sending to avoid message size limits. See b/62115660.\n",
              "    let position = 0;\n",
              "    do {\n",
              "      const length = Math.min(fileData.byteLength - position, MAX_PAYLOAD_SIZE);\n",
              "      const chunk = new Uint8Array(fileData, position, length);\n",
              "      position += length;\n",
              "\n",
              "      const base64 = btoa(String.fromCharCode.apply(null, chunk));\n",
              "      yield {\n",
              "        response: {\n",
              "          action: 'append',\n",
              "          file: file.name,\n",
              "          data: base64,\n",
              "        },\n",
              "      };\n",
              "\n",
              "      let percentDone = fileData.byteLength === 0 ?\n",
              "          100 :\n",
              "          Math.round((position / fileData.byteLength) * 100);\n",
              "      percent.textContent = `${percentDone}% done`;\n",
              "\n",
              "    } while (position < fileData.byteLength);\n",
              "  }\n",
              "\n",
              "  // All done.\n",
              "  yield {\n",
              "    response: {\n",
              "      action: 'complete',\n",
              "    }\n",
              "  };\n",
              "}\n",
              "\n",
              "scope.google = scope.google || {};\n",
              "scope.google.colab = scope.google.colab || {};\n",
              "scope.google.colab._files = {\n",
              "  _uploadFiles,\n",
              "  _uploadFilesContinue,\n",
              "};\n",
              "})(self);\n",
              "</script> "
            ]
          },
          "metadata": {}
        },
        {
          "output_type": "stream",
          "name": "stdout",
          "text": [
            "Saving Dataload.py to Dataload.py\n",
            "Saving kaggle.json to kaggle.json\n",
            "Saving metrics.py to metrics.py\n",
            "Saving pos_weight.py to pos_weight.py\n",
            "Saving subset_train_indices.npy to subset_train_indices.npy\n",
            "Saving utils.py to utils.py\n",
            "Saving validation_indices.npy to validation_indices.npy\n"
          ]
        }
      ]
    },
    {
      "cell_type": "code",
      "source": [
        "! mkdir ~/.kaggle\n",
        "! cp kaggle.json ~/.kaggle/\n",
        "! chmod 600 ~/.kaggle/kaggle.json\n",
        "! kaggle competitions download -c 'multi-label-classification-competition-2025'\n",
        "! mkdir Dataset\n",
        "! unzip multi-label-classification-competition-2025.zip -d Dataset &> /dev/null"
      ],
      "metadata": {
        "id": "uf168JTBuHpQ",
        "outputId": "3255f27f-f082-4d85-a0f2-f81dab317a3d",
        "colab": {
          "base_uri": "https://localhost:8080/"
        }
      },
      "id": "uf168JTBuHpQ",
      "execution_count": 2,
      "outputs": [
        {
          "output_type": "stream",
          "name": "stdout",
          "text": [
            "Downloading multi-label-classification-competition-2025.zip to /content\n",
            " 72% 286M/399M [00:06<00:03, 33.2MB/s]\n",
            "100% 399M/399M [00:06<00:00, 65.0MB/s]\n"
          ]
        }
      ]
    },
    {
      "cell_type": "code",
      "source": [
        "# Model arcitechture\n",
        "import torch.nn.functional as F\n",
        "from torch import nn\n",
        "\n",
        "class CNN(nn.Module):\n",
        "    def __init__(self):\n",
        "        super(CNN, self).__init__()  # Compulsory operation.\n",
        "        self.conv1 = nn.Conv2d(in_channels=3, out_channels=8, kernel_size=7, stride=2, padding=1)\n",
        "        self.conv2 = nn.Conv2d(8, 16, 5, stride=1, padding=1)\n",
        "        self.conv3 = nn.Conv2d(16, 32,3, stride=1,padding=1)\n",
        "        self.pool = nn.MaxPool2d(3,stride=2)\n",
        "        self.bn1 = nn.BatchNorm2d(8)\n",
        "        self.bn2 = nn.BatchNorm2d(16)\n",
        "        self.bn3 = nn.BatchNorm2d(32)\n",
        "        #self.dropout1 = nn.Dropout3d(1-0.9)\n",
        "        self.dropout2 = nn.Dropout3d(0.25)\n",
        "        self.dropout3 = nn.Dropout(0.1)\n",
        "        self.fc1 = nn.Linear(1152, 1000)\n",
        "        self.fc2 = nn.Linear(1000, 19)\n",
        "\n",
        "    def forward(self, x):\n",
        "        x = self.pool(F.relu(self.bn1(self.conv1(x))))\n",
        "        x = self.pool(F.relu(self.bn2(self.conv2(x))))\n",
        "        x = self.pool(F.relu(self.bn3(self.conv3(x))))\n",
        "        #x = self.dropout2(x)\n",
        "        x = torch.flatten(x, 1) # flatten all dimensions except batch\n",
        "        x = self.dropout3(x)\n",
        "        x = F.relu(self.fc1(x))\n",
        "        x = self.dropout3(x)\n",
        "        logits = self.fc2(x)\n",
        "        return logits"
      ],
      "metadata": {
        "id": "u6SWXu0b-joR"
      },
      "id": "u6SWXu0b-joR",
      "execution_count": 27,
      "outputs": []
    },
    {
      "cell_type": "code",
      "source": [
        "import re\n",
        "import pandas as pd\n",
        "from io import StringIO\n",
        "import os\n",
        "import torch\n",
        "from torch import nn\n",
        "import torch.nn.functional as F\n",
        "import matplotlib.pyplot as plt\n",
        "from torchvision import transforms\n",
        "from torch.utils.data import DataLoader, Subset, random_split\n",
        "\n",
        "from Dataload import pil_process_image_color, encode, CustomImageDataset\n",
        "from utils import train_network, pos_weight, test\n",
        "from metrics import compute_metrics\n",
        "from sklearn.metrics import confusion_matrix\n",
        "import torch\n",
        "import numpy as np\n",
        "from tqdm import tqdm\n",
        "\n",
        "# Hyperparameters\n",
        "batch_size = 512\n",
        "lr = 0.0001\n",
        "weight_decay = 1e-6\n",
        "data_augment = True\n",
        "INPUT_HEIGHT = 248\n",
        "INPUT_WIDTH = 248\n",
        "# To remove class 12\n",
        "#weights = torch.ones(19)\n",
        "#weights[11] = 0\n",
        "\n",
        "# Set device to GPU if this is available\n",
        "use_cuda = True if torch.cuda.is_available() else False\n",
        "device = torch.device(\"cuda\" if torch.cuda.is_available() else \"cpu\")\n",
        "print('We are using GPU.' if use_cuda else 'We are using CPU.')\n",
        "\n",
        "# Loading filenames and labels\n",
        "# Assumes data is in folder \"Dataset\"\n",
        "DATASET_PATH = \"/content/Dataset/COMP5329S1A2Dataset/\"\n",
        "FILENAME_TRAIN = 'train.csv'\n",
        "FILENAME_TEST = 'test.csv'\n",
        "\n",
        "with open(DATASET_PATH + FILENAME_TRAIN) as file:\n",
        "    lines = [re.sub(r'([^,])\"(\\s*[^\\n])', r'\\1/\"\\2', line) for line in file]\n",
        "    df_train = pd.read_csv(StringIO(''.join(lines)), escapechar=\"/\")\n",
        "with open(DATASET_PATH + FILENAME_TEST) as file:\n",
        "    lines = [re.sub(r'([^,])\"(\\s*[^\\n])', r'\\1/\"\\2', line) for line in file]\n",
        "    df_test = pd.read_csv(StringIO(''.join(lines)), escapechar=\"/\")\n",
        "df_train.to_csv(\"train_labels_captions.csv\")\n",
        "df_test.to_csv(\"test_labels_captions.csv\")\n",
        "\n",
        "# To get overview\n",
        "#print(df_test.describe)\n",
        "\n",
        "# Defining transforms\n",
        "\n",
        "resize = transforms.Resize(size=(INPUT_HEIGHT,\n",
        "        INPUT_WIDTH)) # Trying to resize to (INPUT_HEIGHT,INPUT_WIDTH)\n",
        "\n",
        "# TODO: we can add data augmentation here\n",
        "# See for example https://pyimagesearch.com/2021/10/04/image-data-loaders-in-pytorch/\n",
        "# or here: https://docs.pytorch.org/vision/main/transforms.html\n",
        "if data_augment:\n",
        "  trainTransforms = transforms.Compose(\n",
        "    [resize,transforms.RandomHorizontalFlip(),transforms.RandomCrop(size=124),transforms.RandomAffine(degrees=90),transforms.ColorJitter(),transforms.ToTensor()])\n",
        "else:\n",
        "  trainTransforms = transforms.Compose(\n",
        "    [resize,transforms.RandomHorizontalFlip(),transforms.ToTensor()])\n",
        "testTransforms = transforms.Compose([resize,transforms.ToTensor()])\n",
        "\n",
        "# Create dataloaders\n",
        "training_data = CustomImageDataset(df_train,DATASET_PATH+\"data/\",transform=trainTransforms,target_transform=encode)\n",
        "test_data = CustomImageDataset(df_test,DATASET_PATH+\"data/\",transform=testTransforms,target_transform=None,targets_available=False)\n",
        "train_dataloader = DataLoader(training_data, batch_size=batch_size, shuffle=True)\n",
        "test_dataloader = DataLoader(test_data)\n",
        "\n",
        "# Setup model\n",
        "model = CNN().to(device)\n",
        "#weights = pos_weight(df_train,barplot=False).to(device)\n",
        "loss = torch.nn.BCEWithLogitsLoss()#weights.to(device))\n",
        "#optimizer = torch.optim.Adam(model.parameters(), lr=lr, weight_decay=weight_decay)\n",
        "optimizer = torch.optim.SGD(model.parameters(),lr=lr)\n",
        "print('Model initialized.')\n",
        "\n",
        "# Loading indices for 80/20 split of training data\n",
        "train_idx = np.load(\"/content/subset_train_indices.npy\")\n",
        "validation_idx = np.load(\"/content/validation_indices.npy\")\n",
        "# Subset dataset for train and val\n",
        "subset_train_dataset = Subset(training_data, train_idx)\n",
        "validation_dataset = Subset(training_data, validation_idx)\n",
        "subset_train_loader = DataLoader(subset_train_dataset, batch_size=batch_size, shuffle=True)\n",
        "validation_loader = DataLoader(validation_dataset)\n",
        "\n",
        "# Training\n",
        "log_interval = 100 # How often we print train loss\n",
        "train_losses, test_losses = train_network(log_interval,model, device, subset_train_loader, validation_loader,optimizer, loss,epochs=12)\n",
        "\n",
        "plt.figure(figsize=(15,4))\n",
        "plt.plot(train_losses,label=\"Training\")\n",
        "plt.plot(test_losses,label=\"Validation\")\n",
        "plt.ylabel(\"Loss\")\n",
        "plt.xlabel(\"Epochs\")\n",
        "plt.legend(loc='upper right')\n",
        "plt.show()\n",
        "\n",
        "# Testing on validation set and get\n",
        "test_loss, all_preds, all_targets = test(model, device, validation_loader, loss, target_available=True) # output predictions as tensors\n",
        "all_preds = np.asarray([np.asarray(tensor.cpu()) for tensor in all_preds])\n",
        "all_targets = np.asarray([np.asarray(tensor.cpu()) for tensor in all_targets])\n",
        "metrics = compute_metrics(all_preds,all_targets)\n",
        "print(metrics)"
      ],
      "metadata": {
        "colab": {
          "base_uri": "https://localhost:8080/",
          "height": 846
        },
        "id": "hae78mIgE9gh",
        "outputId": "0e4de657-305b-403e-9e75-74c3dc519346"
      },
      "id": "hae78mIgE9gh",
      "execution_count": 28,
      "outputs": [
        {
          "output_type": "stream",
          "name": "stdout",
          "text": [
            "We are using GPU.\n",
            "Model initialized.\n"
          ]
        },
        {
          "output_type": "stream",
          "name": "stderr",
          "text": [
            "\r  0%|          | 0/12 [00:00<?, ?it/s]"
          ]
        },
        {
          "output_type": "stream",
          "name": "stdout",
          "text": [
            "\n",
            "Train Epoch: 0 [0/23996 (0%)]\tLoss: 0.725247\n"
          ]
        },
        {
          "output_type": "stream",
          "name": "stderr",
          "text": [
            "\r  8%|▊         | 1/12 [01:26<15:48, 86.23s/it]"
          ]
        },
        {
          "output_type": "stream",
          "name": "stdout",
          "text": [
            "\n",
            "Train Epoch: 1 [0/23996 (0%)]\tLoss: 0.193077\n"
          ]
        },
        {
          "output_type": "stream",
          "name": "stderr",
          "text": [
            "\r 17%|█▋        | 2/12 [02:51<14:18, 85.88s/it]"
          ]
        },
        {
          "output_type": "stream",
          "name": "stdout",
          "text": [
            "\n",
            "Train Epoch: 2 [0/23996 (0%)]\tLoss: 0.187988\n"
          ]
        },
        {
          "output_type": "stream",
          "name": "stderr",
          "text": [
            "\r 25%|██▌       | 3/12 [04:18<12:54, 86.06s/it]"
          ]
        },
        {
          "output_type": "stream",
          "name": "stdout",
          "text": [
            "\n",
            "Train Epoch: 3 [0/23996 (0%)]\tLoss: 0.186422\n"
          ]
        },
        {
          "output_type": "stream",
          "name": "stderr",
          "text": [
            "\r 33%|███▎      | 4/12 [05:46<11:35, 87.00s/it]"
          ]
        },
        {
          "output_type": "stream",
          "name": "stdout",
          "text": [
            "\n",
            "Train Epoch: 4 [0/23996 (0%)]\tLoss: 0.173705\n"
          ]
        },
        {
          "output_type": "stream",
          "name": "stderr",
          "text": [
            "\r 42%|████▏     | 5/12 [07:27<10:43, 91.89s/it]"
          ]
        },
        {
          "output_type": "stream",
          "name": "stdout",
          "text": [
            "\n",
            "Train Epoch: 5 [0/23996 (0%)]\tLoss: 0.188587\n"
          ]
        },
        {
          "output_type": "stream",
          "name": "stderr",
          "text": [
            "\r 50%|█████     | 6/12 [08:54<09:02, 90.34s/it]"
          ]
        },
        {
          "output_type": "stream",
          "name": "stdout",
          "text": [
            "\n",
            "Train Epoch: 6 [0/23996 (0%)]\tLoss: 0.184907\n"
          ]
        },
        {
          "output_type": "stream",
          "name": "stderr",
          "text": [
            "\r 58%|█████▊    | 7/12 [10:19<07:22, 88.58s/it]"
          ]
        },
        {
          "output_type": "stream",
          "name": "stdout",
          "text": [
            "\n",
            "Train Epoch: 7 [0/23996 (0%)]\tLoss: 0.180841\n"
          ]
        },
        {
          "output_type": "stream",
          "name": "stderr",
          "text": [
            "\r 67%|██████▋   | 8/12 [11:45<05:51, 87.79s/it]"
          ]
        },
        {
          "output_type": "stream",
          "name": "stdout",
          "text": [
            "\n",
            "Train Epoch: 8 [0/23996 (0%)]\tLoss: 0.186950\n"
          ]
        },
        {
          "output_type": "stream",
          "name": "stderr",
          "text": [
            "\r 75%|███████▌  | 9/12 [13:10<04:20, 86.97s/it]"
          ]
        },
        {
          "output_type": "stream",
          "name": "stdout",
          "text": [
            "\n",
            "Train Epoch: 9 [0/23996 (0%)]\tLoss: 0.184203\n"
          ]
        },
        {
          "output_type": "stream",
          "name": "stderr",
          "text": [
            "\r 83%|████████▎ | 10/12 [14:35<02:52, 86.38s/it]"
          ]
        },
        {
          "output_type": "stream",
          "name": "stdout",
          "text": [
            "\n",
            "Train Epoch: 10 [0/23996 (0%)]\tLoss: 0.176522\n"
          ]
        },
        {
          "output_type": "stream",
          "name": "stderr",
          "text": [
            "\r 92%|█████████▏| 11/12 [16:00<01:25, 85.91s/it]"
          ]
        },
        {
          "output_type": "stream",
          "name": "stdout",
          "text": [
            "\n",
            "Train Epoch: 11 [0/23996 (0%)]\tLoss: 0.187257\n"
          ]
        },
        {
          "output_type": "stream",
          "name": "stderr",
          "text": [
            "100%|██████████| 12/12 [17:24<00:00, 87.08s/it]\n"
          ]
        },
        {
          "output_type": "display_data",
          "data": {
            "text/plain": [
              "<Figure size 1500x400 with 1 Axes>"
            ],
            "image/png": "[encoded data removed]"
          },
          "metadata": {}
        },
        {
          "output_type": "stream",
          "name": "stdout",
          "text": [
            "{'F1_score': 0.6015768725361367, 'accuracy': 0.9468070175438597, 'precision': 0.7637637637637638, 'recall': 0.496206373292868}\n"
          ]
        }
      ]
    },
    {
      "cell_type": "code",
      "source": [
        "# save model, scores and plot and check size of model is under 100MB\n",
        "model_name = \"21_05_25_kernelbig\"\n",
        "\n",
        "def get_model_size_mb(model):\n",
        "    path = \"temp_model.pth\"\n",
        "    torch.save(model.state_dict(), path)\n",
        "    size_mb = os.path.getsize(path) / (1024 * 1024)\n",
        "    os.remove(path)\n",
        "    return size_mb\n",
        "\n",
        "path_name_model = \"/content/model_\" + model_name+\".pt\"\n",
        "path_name_plot = \"/content/model_\" + model_name + \"loss.png\"\n",
        "path_name_scores = \"/content/model_\" + model_name + \"scores.txt\"\n",
        "\n",
        "torch.save(model.state_dict(), path_name_model)\n",
        "print(f\"Model saved to {path_name_model}\")\n",
        "size_mb = os.path.getsize(path_name_model) / (1024 * 1024)\n",
        "print(f\"Model size: {size_mb} MB\")\n",
        "\n",
        "plt.figure(figsize=(15,4))\n",
        "plt.plot(train_losses,label=\"Training\")\n",
        "plt.plot(test_losses,label=\"Validation\")\n",
        "plt.ylabel(\"Loss\")\n",
        "plt.xlabel(\"Epochs\")\n",
        "plt.legend(loc='upper right')\n",
        "plt.savefig(path_name_plot)\n",
        "\n",
        "import json\n",
        "with open(path_name_scores, 'w') as file:\n",
        "     file.write(json.dumps(metrics))"
      ],
      "metadata": {
        "colab": {
          "base_uri": "https://localhost:8080/",
          "height": 395
        },
        "id": "yI8gKgxvU0Tr",
        "outputId": "16cf3ad6-8bda-452f-8201-c6c02ff4e010"
      },
      "id": "yI8gKgxvU0Tr",
      "execution_count": 7,
      "outputs": [
        {
          "output_type": "stream",
          "name": "stdout",
          "text": [
            "Model saved to /content/model_21_05_25_simpler.pt\n",
            "Model size: 27.573911666870117 MB\n"
          ]
        },
        {
          "output_type": "display_data",
          "data": {
            "text/plain": [
              "<Figure size 1500x400 with 1 Axes>"
            ],
            "image/png": "[encoded data removed]"
          },
          "metadata": {}
        }
      ]
    },
    {
      "cell_type": "code",
      "source": [
        "# Training new model on the full dataset\n",
        "model_full = CNN().to(device)\n",
        "#weights = pos_weight(df_train,barplot=False).to(device)\n",
        "loss = torch.nn.BCEWithLogitsLoss()\n",
        "optimizer = torch.optim.Adam(model_full.parameters(), lr=lr)\n",
        "print('Model initialized.')\n",
        "train_losses_full = train_network(log_interval,model_full, device, train_dataloader, test_loader=0,optimizer=optimizer, loss=loss,epochs=10)\n",
        "\n",
        "\n",
        "plt.figure(figsize=(15,4))\n",
        "plt.plot(train_losses_full,label=\"Training\")\n",
        "plt.ylabel(\"Loss\")\n",
        "plt.xlabel(\"Epochs\")\n",
        "plt.legend(loc='upper right')\n",
        "\n",
        "# Compute predictions for true test set\n",
        "test_pred = test(model_full, device, test_dataloader,loss,target_available=False)\n",
        "\n"
      ],
      "metadata": {
        "id": "YgDEmbblCdgS",
        "colab": {
          "base_uri": "https://localhost:8080/",
          "height": 794
        },
        "outputId": "51e724c9-a5d3-4eaf-b5cc-847033718b55"
      },
      "id": "YgDEmbblCdgS",
      "execution_count": 10,
      "outputs": [
        {
          "output_type": "stream",
          "name": "stdout",
          "text": [
            "Model initialized.\n"
          ]
        },
        {
          "output_type": "stream",
          "name": "stderr",
          "text": [
            "\r  0%|          | 0/10 [00:00<?, ?it/s]"
          ]
        },
        {
          "output_type": "stream",
          "name": "stdout",
          "text": [
            "\n",
            "Train Epoch: 0 [0/29996 (0%)]\tLoss: 0.737220\n"
          ]
        },
        {
          "output_type": "stream",
          "name": "stderr",
          "text": [
            "\r 10%|█         | 1/10 [01:00<09:03, 60.34s/it]"
          ]
        },
        {
          "output_type": "stream",
          "name": "stdout",
          "text": [
            "\n",
            "Train Epoch: 1 [0/29996 (0%)]\tLoss: 0.384738\n"
          ]
        },
        {
          "output_type": "stream",
          "name": "stderr",
          "text": [
            "\r 20%|██        | 2/10 [02:00<08:03, 60.48s/it]"
          ]
        },
        {
          "output_type": "stream",
          "name": "stdout",
          "text": [
            "\n",
            "Train Epoch: 2 [0/29996 (0%)]\tLoss: 0.224029\n"
          ]
        },
        {
          "output_type": "stream",
          "name": "stderr",
          "text": [
            "\r 30%|███       | 3/10 [03:01<07:03, 60.44s/it]"
          ]
        },
        {
          "output_type": "stream",
          "name": "stdout",
          "text": [
            "\n",
            "Train Epoch: 3 [0/29996 (0%)]\tLoss: 0.177292\n"
          ]
        },
        {
          "output_type": "stream",
          "name": "stderr",
          "text": [
            "\r 40%|████      | 4/10 [04:01<06:02, 60.38s/it]"
          ]
        },
        {
          "output_type": "stream",
          "name": "stdout",
          "text": [
            "\n",
            "Train Epoch: 4 [0/29996 (0%)]\tLoss: 0.174688\n"
          ]
        },
        {
          "output_type": "stream",
          "name": "stderr",
          "text": [
            "\r 50%|█████     | 5/10 [05:02<05:01, 60.40s/it]"
          ]
        },
        {
          "output_type": "stream",
          "name": "stdout",
          "text": [
            "\n",
            "Train Epoch: 5 [0/29996 (0%)]\tLoss: 0.167223\n"
          ]
        },
        {
          "output_type": "stream",
          "name": "stderr",
          "text": [
            "\r 60%|██████    | 6/10 [06:02<04:01, 60.40s/it]"
          ]
        },
        {
          "output_type": "stream",
          "name": "stdout",
          "text": [
            "\n",
            "Train Epoch: 6 [0/29996 (0%)]\tLoss: 0.170860\n"
          ]
        },
        {
          "output_type": "stream",
          "name": "stderr",
          "text": [
            "\r 70%|███████   | 7/10 [07:03<03:01, 60.47s/it]"
          ]
        },
        {
          "output_type": "stream",
          "name": "stdout",
          "text": [
            "\n",
            "Train Epoch: 7 [0/29996 (0%)]\tLoss: 0.178613\n"
          ]
        },
        {
          "output_type": "stream",
          "name": "stderr",
          "text": [
            "\r 80%|████████  | 8/10 [08:03<02:00, 60.38s/it]"
          ]
        },
        {
          "output_type": "stream",
          "name": "stdout",
          "text": [
            "\n",
            "Train Epoch: 8 [0/29996 (0%)]\tLoss: 0.180258\n"
          ]
        },
        {
          "output_type": "stream",
          "name": "stderr",
          "text": [
            "\r 90%|█████████ | 9/10 [09:03<01:00, 60.31s/it]"
          ]
        },
        {
          "output_type": "stream",
          "name": "stdout",
          "text": [
            "\n",
            "Train Epoch: 9 [0/29996 (0%)]\tLoss: 0.158279\n"
          ]
        },
        {
          "output_type": "stream",
          "name": "stderr",
          "text": [
            "100%|██████████| 10/10 [10:03<00:00, 60.31s/it]\n",
            "100%|██████████| 10000/10000 [00:26<00:00, 378.48it/s]\n"
          ]
        },
        {
          "output_type": "stream",
          "name": "stdout",
          "text": [
            "\n",
            "Predictions computed for test set.\n"
          ]
        },
        {
          "output_type": "display_data",
          "data": {
            "text/plain": [
              "<Figure size 1500x400 with 1 Axes>"
            ],
            "image/png": "[encoded data removed]"
          },
          "metadata": {}
        }
      ]
    },
    {
      "cell_type": "code",
      "source": [
        "# Convert predictions to csv\n",
        "from tqdm import tqdm\n",
        "import numpy as np\n",
        "\n",
        "def get_class(array):\n",
        "  return np.where(array > 0.5)[1] +1\n",
        "\n",
        "def unencode(y_pred):\n",
        "  labels = []\n",
        "  for i in tqdm(range(len(y_pred))):\n",
        "    temp = y_pred[i].cpu()\n",
        "    temp = np.asarray(temp)\n",
        "    temp = get_class(temp)\n",
        "    temp = \" \".join(str(item) for item in temp)\n",
        "    labels.append(temp)\n",
        "  return labels\n",
        "\n",
        "#cpu_preds = torch.tensor(val_pred, device =  'cpu')\n",
        "pred_labels= unencode(test_pred)\n",
        "pred_df = df_test.copy()\n",
        "pred_df = pred_df.drop(\"Caption\",axis=1)\n",
        "pred_df[\"Labels\"] = pred_labels\n",
        "print(\"Submission dataframe:\")\n",
        "print(pred_df.describe)\n",
        "submission_name = \"/content/submission.csv\"\n",
        "pred_df.to_csv(submission_name,index=False)\n",
        "print(f\"/nPredictions saved as {submission_name}\")"
      ],
      "metadata": {
        "id": "zcZSgKoG5KtF",
        "colab": {
          "base_uri": "https://localhost:8080/"
        },
        "outputId": "2a4904ff-c660-47bd-9b7a-68df95dccaeb"
      },
      "id": "zcZSgKoG5KtF",
      "execution_count": 11,
      "outputs": [
        {
          "output_type": "stream",
          "name": "stderr",
          "text": [
            "100%|██████████| 10000/10000 [00:00<00:00, 26040.92it/s]"
          ]
        },
        {
          "output_type": "stream",
          "name": "stdout",
          "text": [
            "Submission dataframe:\n",
            "<bound method NDFrame.describe of         ImageID Labels\n",
            "0     30000.jpg      1\n",
            "1     30001.jpg      1\n",
            "2     30002.jpg      1\n",
            "3     30003.jpg   1 16\n",
            "4     30004.jpg      1\n",
            "...         ...    ...\n",
            "9995  39995.jpg      1\n",
            "9996  39996.jpg    1 4\n",
            "9997  39997.jpg      1\n",
            "9998  39998.jpg      1\n",
            "9999  39999.jpg      1\n",
            "\n",
            "[10000 rows x 2 columns]>\n",
            "/nPredictions saved as /content/submission.csv\n"
          ]
        },
        {
          "output_type": "stream",
          "name": "stderr",
          "text": [
            "\n"
          ]
        }
      ]
    },
    {
      "cell_type": "code",
      "source": [
        "# Submit predictions\n",
        "! kaggle competitions submit -c multi-label-classification-competition-2025 -f /content/submission.csv -m \"first submission\""
      ],
      "metadata": {
        "id": "jPrAkup83tGG",
        "colab": {
          "base_uri": "https://localhost:8080/"
        },
        "outputId": "462f1bac-bb6a-4fc1-88b1-5e7d05d32ab1"
      },
      "id": "jPrAkup83tGG",
      "execution_count": 12,
      "outputs": [
        {
          "output_type": "stream",
          "name": "stdout",
          "text": [
            "100% 119k/119k [00:00<00:00, 209kB/s]\n",
            "Successfully submitted to Multi-label Classification Competition 2025"
          ]
        }
      ]
    }
  ],
  "metadata": {
    "language_info": {
      "name": "python"
    },
    "colab": {
      "provenance": [],
      "gpuType": "T4",
      "include_colab_link": true
    },
    "kernelspec": {
      "name": "python3",
      "display_name": "Python 3"
    },
    "accelerator": "GPU"
  },
  "nbformat": 4,
  "nbformat_minor": 5
}