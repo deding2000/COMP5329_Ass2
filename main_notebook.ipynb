{
  "cells": [
    {
      "cell_type": "markdown",
      "metadata": {
        "id": "view-in-github",
        "colab_type": "text"
      },
      "source": [
        "<a href=\"https://colab.research.google.com/github/deding2000/COMP5329_Ass2/blob/main/main_notebook.ipynb\" target=\"_parent\"><img src=\"https://colab.research.google.com/assets/colab-badge.svg\" alt=\"Open In Colab\"/></a>"
      ]
    },
    {
      "cell_type": "code",
      "execution_count": null,
      "id": "7b8ec581",
      "metadata": {
        "vscode": {
          "languageId": "plaintext"
        },
        "colab": {
          "base_uri": "https://localhost:8080/"
        },
        "id": "7b8ec581",
        "outputId": "546900de-64dd-4a37-c5cc-396b15840297"
      },
      "outputs": [
        {
          "output_type": "stream",
          "name": "stdout",
          "text": [
            "Mounted at /content/drive\n"
          ]
        }
      ],
      "source": [
        "from google.colab import drive\n",
        "drive.mount('/content/drive')"
      ]
    },
    {
      "cell_type": "code",
      "source": [
        "from google.colab import files\n",
        "uploaded = files.upload() # select all python files from the github page and kaggle.json"
      ],
      "metadata": {
        "id": "GX_AvoqV4L6x",
        "outputId": "20021505-cf55-465b-c838-4b78ada0e219",
        "colab": {
          "base_uri": "https://localhost:8080/",
          "height": 420
        }
      },
      "id": "GX_AvoqV4L6x",
      "execution_count": 1,
      "outputs": [
        {
          "output_type": "display_data",
          "data": {
            "text/plain": [
              "<IPython.core.display.HTML object>"
            ],
            "text/html": [
              "\n",
              "     <input type=\"file\" id=\"files-593547f9-0018-45a4-aede-f9ea66517f02\" name=\"files[]\" multiple disabled\n",
              "        style=\"border:none\" />\n",
              "     <output id=\"result-593547f9-0018-45a4-aede-f9ea66517f02\">\n",
              "      Upload widget is only available when the cell has been executed in the\n",
              "      current browser session. Please rerun this cell to enable.\n",
              "      </output>\n",
              "      <script>// Copyright 2017 Google LLC\n",
              "//\n",
              "// Licensed under the Apache License, Version 2.0 (the \"License\");\n",
              "// you may not use this file except in compliance with the License.\n",
              "// You may obtain a copy of the License at\n",
              "//\n",
              "//      http://www.apache.org/licenses/LICENSE-2.0\n",
              "//\n",
              "// Unless required by applicable law or agreed to in writing, software\n",
              "// distributed under the License is distributed on an \"AS IS\" BASIS,\n",
              "// WITHOUT WARRANTIES OR CONDITIONS OF ANY KIND, either express or implied.\n",
              "// See the License for the specific language governing permissions and\n",
              "// limitations under the License.\n",
              "\n",
              "/**\n",
              " * @fileoverview Helpers for google.colab Python module.\n",
              " */\n",
              "(function(scope) {\n",
              "function span(text, styleAttributes = {}) {\n",
              "  const element = document.createElement('span');\n",
              "  element.textContent = text;\n",
              "  for (const key of Object.keys(styleAttributes)) {\n",
              "    element.style[key] = styleAttributes[key];\n",
              "  }\n",
              "  return element;\n",
              "}\n",
              "\n",
              "// Max number of bytes which will be uploaded at a time.\n",
              "const MAX_PAYLOAD_SIZE = 100 * 1024;\n",
              "\n",
              "function _uploadFiles(inputId, outputId) {\n",
              "  const steps = uploadFilesStep(inputId, outputId);\n",
              "  const outputElement = document.getElementById(outputId);\n",
              "  // Cache steps on the outputElement to make it available for the next call\n",
              "  // to uploadFilesContinue from Python.\n",
              "  outputElement.steps = steps;\n",
              "\n",
              "  return _uploadFilesContinue(outputId);\n",
              "}\n",
              "\n",
              "// This is roughly an async generator (not supported in the browser yet),\n",
              "// where there are multiple asynchronous steps and the Python side is going\n",
              "// to poll for completion of each step.\n",
              "// This uses a Promise to block the python side on completion of each step,\n",
              "// then passes the result of the previous step as the input to the next step.\n",
              "function _uploadFilesContinue(outputId) {\n",
              "  const outputElement = document.getElementById(outputId);\n",
              "  const steps = outputElement.steps;\n",
              "\n",
              "  const next = steps.next(outputElement.lastPromiseValue);\n",
              "  return Promise.resolve(next.value.promise).then((value) => {\n",
              "    // Cache the last promise value to make it available to the next\n",
              "    // step of the generator.\n",
              "    outputElement.lastPromiseValue = value;\n",
              "    return next.value.response;\n",
              "  });\n",
              "}\n",
              "\n",
              "/**\n",
              " * Generator function which is called between each async step of the upload\n",
              " * process.\n",
              " * @param {string} inputId Element ID of the input file picker element.\n",
              " * @param {string} outputId Element ID of the output display.\n",
              " * @return {!Iterable<!Object>} Iterable of next steps.\n",
              " */\n",
              "function* uploadFilesStep(inputId, outputId) {\n",
              "  const inputElement = document.getElementById(inputId);\n",
              "  inputElement.disabled = false;\n",
              "\n",
              "  const outputElement = document.getElementById(outputId);\n",
              "  outputElement.innerHTML = '';\n",
              "\n",
              "  const pickedPromise = new Promise((resolve) => {\n",
              "    inputElement.addEventListener('change', (e) => {\n",
              "      resolve(e.target.files);\n",
              "    });\n",
              "  });\n",
              "\n",
              "  const cancel = document.createElement('button');\n",
              "  inputElement.parentElement.appendChild(cancel);\n",
              "  cancel.textContent = 'Cancel upload';\n",
              "  const cancelPromise = new Promise((resolve) => {\n",
              "    cancel.onclick = () => {\n",
              "      resolve(null);\n",
              "    };\n",
              "  });\n",
              "\n",
              "  // Wait for the user to pick the files.\n",
              "  const files = yield {\n",
              "    promise: Promise.race([pickedPromise, cancelPromise]),\n",
              "    response: {\n",
              "      action: 'starting',\n",
              "    }\n",
              "  };\n",
              "\n",
              "  cancel.remove();\n",
              "\n",
              "  // Disable the input element since further picks are not allowed.\n",
              "  inputElement.disabled = true;\n",
              "\n",
              "  if (!files) {\n",
              "    return {\n",
              "      response: {\n",
              "        action: 'complete',\n",
              "      }\n",
              "    };\n",
              "  }\n",
              "\n",
              "  for (const file of files) {\n",
              "    const li = document.createElement('li');\n",
              "    li.append(span(file.name, {fontWeight: 'bold'}));\n",
              "    li.append(span(\n",
              "        `(${file.type || 'n/a'}) - ${file.size} bytes, ` +\n",
              "        `last modified: ${\n",
              "            file.lastModifiedDate ? file.lastModifiedDate.toLocaleDateString() :\n",
              "                                    'n/a'} - `));\n",
              "    const percent = span('0% done');\n",
              "    li.appendChild(percent);\n",
              "\n",
              "    outputElement.appendChild(li);\n",
              "\n",
              "    const fileDataPromise = new Promise((resolve) => {\n",
              "      const reader = new FileReader();\n",
              "      reader.onload = (e) => {\n",
              "        resolve(e.target.result);\n",
              "      };\n",
              "      reader.readAsArrayBuffer(file);\n",
              "    });\n",
              "    // Wait for the data to be ready.\n",
              "    let fileData = yield {\n",
              "      promise: fileDataPromise,\n",
              "      response: {\n",
              "        action: 'continue',\n",
              "      }\n",
              "    };\n",
              "\n",
              "    // Use a chunked sending to avoid message size limits. See b/62115660.\n",
              "    let position = 0;\n",
              "    do {\n",
              "      const length = Math.min(fileData.byteLength - position, MAX_PAYLOAD_SIZE);\n",
              "      const chunk = new Uint8Array(fileData, position, length);\n",
              "      position += length;\n",
              "\n",
              "      const base64 = btoa(String.fromCharCode.apply(null, chunk));\n",
              "      yield {\n",
              "        response: {\n",
              "          action: 'append',\n",
              "          file: file.name,\n",
              "          data: base64,\n",
              "        },\n",
              "      };\n",
              "\n",
              "      let percentDone = fileData.byteLength === 0 ?\n",
              "          100 :\n",
              "          Math.round((position / fileData.byteLength) * 100);\n",
              "      percent.textContent = `${percentDone}% done`;\n",
              "\n",
              "    } while (position < fileData.byteLength);\n",
              "  }\n",
              "\n",
              "  // All done.\n",
              "  yield {\n",
              "    response: {\n",
              "      action: 'complete',\n",
              "    }\n",
              "  };\n",
              "}\n",
              "\n",
              "scope.google = scope.google || {};\n",
              "scope.google.colab = scope.google.colab || {};\n",
              "scope.google.colab._files = {\n",
              "  _uploadFiles,\n",
              "  _uploadFilesContinue,\n",
              "};\n",
              "})(self);\n",
              "</script> "
            ]
          },
          "metadata": {}
        },
        {
          "output_type": "stream",
          "name": "stdout",
          "text": [
            "Saving Dataload.py to Dataload.py\n",
            "Saving F1_test.py to F1_test.py\n",
            "Saving kaggle.json to kaggle.json\n",
            "Saving main.py to main.py\n",
            "Saving main_notebook.ipynb to main_notebook.ipynb\n",
            "Saving models.py to models.py\n",
            "Saving README.md to README.md\n",
            "Saving requirements.txt to requirements.txt\n",
            "Saving test_labels_captions.csv to test_labels_captions.csv\n",
            "Saving train_labels_captions.csv to train_labels_captions.csv\n",
            "Saving utils.py to utils.py\n"
          ]
        }
      ]
    },
    {
      "cell_type": "code",
      "source": [
        "! mkdir ~/.kaggle\n",
        "! cp kaggle.json ~/.kaggle/\n",
        "! chmod 600 ~/.kaggle/kaggle.json\n",
        "! kaggle competitions download -c 'multi-label-classification-competition-2025'\n",
        "! mkdir Dataset\n",
        "! unzip multi-label-classification-competition-2025.zip -d Dataset &> /dev/null"
      ],
      "metadata": {
        "id": "uf168JTBuHpQ",
        "outputId": "9b493e93-7a88-4b4a-9f90-2216558b0c95",
        "colab": {
          "base_uri": "https://localhost:8080/"
        }
      },
      "id": "uf168JTBuHpQ",
      "execution_count": 2,
      "outputs": [
        {
          "output_type": "stream",
          "name": "stdout",
          "text": [
            "Downloading multi-label-classification-competition-2025.zip to /content\n",
            " 80% 321M/399M [00:02<00:00, 92.3MB/s]\n",
            "100% 399M/399M [00:02<00:00, 153MB/s] \n"
          ]
        }
      ]
    },
    {
      "cell_type": "code",
      "source": [
        "import re\n",
        "import pandas as pd\n",
        "from io import StringIO\n",
        "import os\n",
        "import torch\n",
        "import matplotlib.pyplot as plt\n",
        "from torchvision import transforms\n",
        "from torch.utils.data import DataLoader, Subset, random_split\n",
        "\n",
        "from Dataload import pil_process_image_color, encode, CustomImageDataset\n",
        "from models import CNN\n",
        "from utils import test, train_network\n",
        "\n",
        "from sklearn.metrics import confusion_matrix\n",
        "import torch\n",
        "import numpy as np\n",
        "from tqdm import tqdm\n",
        "\n",
        "# Hyperparameters\n",
        "batch_size = 128\n",
        "lr = 0.0001\n",
        "\n",
        "# Set device to GPU if this is available\n",
        "use_cuda = True if torch.cuda.is_available() else False\n",
        "device = torch.device(\"cuda\" if torch.cuda.is_available() else \"cpu\")\n",
        "print('We are using GPU.' if use_cuda else 'We are using CPU.')\n",
        "\n",
        "# Loading filenames and labels\n",
        "# Assumes data is in folder \"Dataset\"\n",
        "DATASET_PATH = \"/content/Dataset/COMP5329S1A2Dataset/\"\n",
        "FILENAME_TRAIN = 'train.csv'\n",
        "FILENAME_TEST = 'test.csv'\n",
        "\n",
        "with open(DATASET_PATH + FILENAME_TRAIN) as file:\n",
        "    lines = [re.sub(r'([^,])\"(\\s*[^\\n])', r'\\1/\"\\2', line) for line in file]\n",
        "    df_train = pd.read_csv(StringIO(''.join(lines)), escapechar=\"/\")\n",
        "with open(DATASET_PATH + FILENAME_TEST) as file:\n",
        "    lines = [re.sub(r'([^,])\"(\\s*[^\\n])', r'\\1/\"\\2', line) for line in file]\n",
        "    df_test = pd.read_csv(StringIO(''.join(lines)), escapechar=\"/\")\n",
        "df_train.to_csv(\"train_labels_captions.csv\")\n",
        "df_test.to_csv(\"test_labels_captions.csv\")\n",
        "\n",
        "# To get overview\n",
        "#print(df_test.describe)\n",
        "\n",
        "# Defining transforms\n",
        "INPUT_HEIGHT = 128\n",
        "INPUT_WIDTH = 128\n",
        "resize = transforms.Resize(size=(INPUT_HEIGHT,\n",
        "        INPUT_WIDTH)) # Trying to resize to (INPUT_HEIGHT,INPUT_WIDTH)\n",
        "\n",
        "# TODO: we can add data augmentation here\n",
        "# See for example https://pyimagesearch.com/2021/10/04/image-data-loaders-in-pytorch/\n",
        "# or here: https://docs.pytorch.org/vision/main/transforms.html\n",
        "trainTransforms = transforms.Compose(\n",
        "    [resize,transforms.RandomHorizontalFlip(),transforms.ToTensor()])\n",
        "testTransforms = transforms.Compose([resize,transforms.ToTensor()])\n",
        "\n",
        "# Create dataloaders\n",
        "training_data = CustomImageDataset(df_train,DATASET_PATH+\"data/\",transform=trainTransforms,target_transform=encode)\n",
        "test_data = CustomImageDataset(df_test,DATASET_PATH+\"data/\",transform=testTransforms,target_transform=encode)\n",
        "train_dataloader = DataLoader(training_data, batch_size=batch_size, shuffle=True)\n",
        "test_dataloader = DataLoader(test_data, batch_size=batch_size, shuffle=True)\n",
        "\n",
        "# Setup model\n",
        "model = CNN().to(device)\n",
        "loss = torch.nn.BCEWithLogitsLoss()\n",
        "optimizer = torch.optim.Adam(model.parameters(), lr=lr)\n",
        "print('Model initialized.')\n",
        "\n",
        "# Creating 70/30 split of data\n",
        "generator1 = torch.Generator().manual_seed(10)\n",
        "subset_train,subset_test = random_split(training_data, [0.7, 0.3], generator=generator1)\n",
        "subset_trainloader = DataLoader(subset_train, batch_size=batch_size, shuffle=True,drop_last=True)\n",
        "subset_testloader = DataLoader(subset_test)\n",
        "\n",
        "# Training\n",
        "log_interval = 100 # How often we print train loss\n",
        "train_losses = train_network(log_interval,model, device, subset_trainloader, optimizer, loss,epochs=10)\n",
        "\n",
        "plt.figure(figsize=(15,4))\n",
        "plt.plot(train_losses,label=\"Training\")\n",
        "plt.ylabel(\"Loss\")\n",
        "plt.xlabel(\"Epochs\")\n",
        "plt.legend(loc='upper right')\n",
        "plt.show()\n",
        "\n",
        "# Testing forward operator\n",
        "predictions = test(model, device, subset_testloader,loss)"
      ],
      "metadata": {
        "colab": {
          "base_uri": "https://localhost:8080/",
          "height": 1000
        },
        "id": "hae78mIgE9gh",
        "outputId": "d1096516-b020-4964-a5f3-09ba14a30581"
      },
      "id": "hae78mIgE9gh",
      "execution_count": 3,
      "outputs": [
        {
          "output_type": "stream",
          "name": "stdout",
          "text": [
            "We are using GPU.\n",
            "Model initialized.\n"
          ]
        },
        {
          "output_type": "stream",
          "name": "stderr",
          "text": [
            "\r  0%|          | 0/10 [00:00<?, ?it/s]"
          ]
        },
        {
          "output_type": "stream",
          "name": "stdout",
          "text": [
            "\n",
            "Train Epoch: 0 [0/20998 (0%)]\tLoss: 0.726719\n",
            "\n",
            "Train Epoch: 0 [12800/20998 (61%)]\tLoss: 0.368193\n"
          ]
        },
        {
          "output_type": "stream",
          "name": "stderr",
          "text": [
            "\r 10%|█         | 1/10 [00:58<08:48, 58.70s/it]"
          ]
        },
        {
          "output_type": "stream",
          "name": "stdout",
          "text": [
            "\n",
            "Train Epoch: 1 [0/20998 (0%)]\tLoss: 0.331413\n",
            "\n",
            "Train Epoch: 1 [12800/20998 (61%)]\tLoss: 0.336953\n"
          ]
        },
        {
          "output_type": "stream",
          "name": "stderr",
          "text": [
            "\r 20%|██        | 2/10 [01:53<07:32, 56.59s/it]"
          ]
        },
        {
          "output_type": "stream",
          "name": "stdout",
          "text": [
            "\n",
            "Train Epoch: 2 [0/20998 (0%)]\tLoss: 0.333964\n",
            "\n",
            "Train Epoch: 2 [12800/20998 (61%)]\tLoss: 0.290121\n"
          ]
        },
        {
          "output_type": "stream",
          "name": "stderr",
          "text": [
            "\r 30%|███       | 3/10 [02:49<06:33, 56.21s/it]"
          ]
        },
        {
          "output_type": "stream",
          "name": "stdout",
          "text": [
            "\n",
            "Train Epoch: 3 [0/20998 (0%)]\tLoss: 0.302769\n",
            "\n",
            "Train Epoch: 3 [12800/20998 (61%)]\tLoss: 0.278344\n"
          ]
        },
        {
          "output_type": "stream",
          "name": "stderr",
          "text": [
            "\r 40%|████      | 4/10 [03:46<05:38, 56.38s/it]"
          ]
        },
        {
          "output_type": "stream",
          "name": "stdout",
          "text": [
            "\n",
            "Train Epoch: 4 [0/20998 (0%)]\tLoss: 0.269614\n",
            "\n",
            "Train Epoch: 4 [12800/20998 (61%)]\tLoss: 0.270910\n"
          ]
        },
        {
          "output_type": "stream",
          "name": "stderr",
          "text": [
            "\r 50%|█████     | 5/10 [04:41<04:39, 55.93s/it]"
          ]
        },
        {
          "output_type": "stream",
          "name": "stdout",
          "text": [
            "\n",
            "Train Epoch: 5 [0/20998 (0%)]\tLoss: 0.260063\n",
            "\n",
            "Train Epoch: 5 [12800/20998 (61%)]\tLoss: 0.254572\n"
          ]
        },
        {
          "output_type": "stream",
          "name": "stderr",
          "text": [
            "\r 60%|██████    | 6/10 [05:37<03:44, 56.17s/it]"
          ]
        },
        {
          "output_type": "stream",
          "name": "stdout",
          "text": [
            "\n",
            "Train Epoch: 6 [0/20998 (0%)]\tLoss: 0.210968\n",
            "\n",
            "Train Epoch: 6 [12800/20998 (61%)]\tLoss: 0.216847\n"
          ]
        },
        {
          "output_type": "stream",
          "name": "stderr",
          "text": [
            "\r 70%|███████   | 7/10 [06:31<02:46, 55.39s/it]"
          ]
        },
        {
          "output_type": "stream",
          "name": "stdout",
          "text": [
            "\n",
            "Train Epoch: 7 [0/20998 (0%)]\tLoss: 0.204291\n",
            "\n",
            "Train Epoch: 7 [12800/20998 (61%)]\tLoss: 0.192323\n"
          ]
        },
        {
          "output_type": "stream",
          "name": "stderr",
          "text": [
            "\r 80%|████████  | 8/10 [07:25<01:49, 54.73s/it]"
          ]
        },
        {
          "output_type": "stream",
          "name": "stdout",
          "text": [
            "\n",
            "Train Epoch: 8 [0/20998 (0%)]\tLoss: 0.191440\n",
            "\n",
            "Train Epoch: 8 [12800/20998 (61%)]\tLoss: 0.192745\n"
          ]
        },
        {
          "output_type": "stream",
          "name": "stderr",
          "text": [
            "\r 90%|█████████ | 9/10 [08:18<00:54, 54.19s/it]"
          ]
        },
        {
          "output_type": "stream",
          "name": "stdout",
          "text": [
            "\n",
            "Train Epoch: 9 [0/20998 (0%)]\tLoss: 0.196368\n",
            "\n",
            "Train Epoch: 9 [12800/20998 (61%)]\tLoss: 0.209006\n"
          ]
        },
        {
          "output_type": "stream",
          "name": "stderr",
          "text": [
            "100%|██████████| 10/10 [09:11<00:00, 55.14s/it]\n"
          ]
        },
        {
          "output_type": "display_data",
          "data": {
            "text/plain": [
              "<Figure size 1500x400 with 1 Axes>"
            ],
            "image/png": "[encoded data removed]"
          },
          "metadata": {}
        },
        {
          "output_type": "stream",
          "name": "stderr",
          "text": [
            "100%|██████████| 8998/8998 [00:34<00:00, 258.69it/s]"
          ]
        },
        {
          "output_type": "stream",
          "name": "stdout",
          "text": [
            "\n",
            "Test set results: Average loss: 0.2121, F1 Score: 0.60\n",
            "\n"
          ]
        },
        {
          "output_type": "stream",
          "name": "stderr",
          "text": [
            "\n"
          ]
        }
      ]
    },
    {
      "cell_type": "code",
      "source": [
        "# Convert predictions to csv\n",
        "def uncencode(y_pred):\n",
        "  temp = (y_pred > 0.5).astype(int)\n",
        "  \" \".join(temp)\n",
        "  return temp\n",
        "\n",
        "predictions = uncencode(predictions)\n",
        "pred_df = pd.read_csv(\"/content/Dataset/COMP5329S1A2Dataset/test.csv\")\n",
        "pred_df.drop([\"Caption\"],axis=1)\n",
        "pred_df[\"Label\"] = predictions\n",
        "pred_df.to_csv(\"submission.csv\",index=False)"
      ],
      "metadata": {
        "id": "zcZSgKoG5KtF"
      },
      "id": "zcZSgKoG5KtF",
      "execution_count": null,
      "outputs": []
    },
    {
      "cell_type": "code",
      "source": [
        "# Submit predictions\n",
        "! kaggle competitions submit -c multi-label-classification-competition-2025 -f submission.csv -m \"Message\""
      ],
      "metadata": {
        "id": "jPrAkup83tGG"
      },
      "id": "jPrAkup83tGG",
      "execution_count": null,
      "outputs": []
    }
  ],
  "metadata": {
    "language_info": {
      "name": "python"
    },
    "colab": {
      "provenance": [],
      "gpuType": "T4",
      "include_colab_link": true
    },
    "kernelspec": {
      "name": "python3",
      "display_name": "Python 3"
    },
    "accelerator": "GPU"
  },
  "nbformat": 4,
  "nbformat_minor": 5
}