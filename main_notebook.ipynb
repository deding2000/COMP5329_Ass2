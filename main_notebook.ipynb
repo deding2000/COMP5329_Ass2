{
  "cells": [
    {
      "cell_type": "markdown",
      "metadata": {
        "id": "view-in-github",
        "colab_type": "text"
      },
      "source": [
        "<a href=\"https://colab.research.google.com/github/deding2000/COMP5329_Ass2/blob/main/main_notebook.ipynb\" target=\"_parent\"><img src=\"https://colab.research.google.com/assets/colab-badge.svg\" alt=\"Open In Colab\"/></a>"
      ]
    },
    {
      "cell_type": "code",
      "execution_count": null,
      "id": "7b8ec581",
      "metadata": {
        "vscode": {
          "languageId": "plaintext"
        },
        "colab": {
          "base_uri": "https://localhost:8080/"
        },
        "id": "7b8ec581",
        "outputId": "546900de-64dd-4a37-c5cc-396b15840297"
      },
      "outputs": [
        {
          "output_type": "stream",
          "name": "stdout",
          "text": [
            "Mounted at /content/drive\n"
          ]
        }
      ],
      "source": [
        "# Not needed before we upload files to google drive\n",
        "from google.colab import drive\n",
        "drive.mount('/content/drive')"
      ]
    },
    {
      "cell_type": "code",
      "source": [
        "from google.colab import files\n",
        "uploaded = files.upload() # select all python files from the github page and kaggle.json"
      ],
      "metadata": {
        "id": "GX_AvoqV4L6x",
        "outputId": "3da7e0de-311c-4e24-e49d-188266611c4c",
        "colab": {
          "base_uri": "https://localhost:8080/",
          "height": 73
        }
      },
      "id": "GX_AvoqV4L6x",
      "execution_count": 27,
      "outputs": [
        {
          "output_type": "display_data",
          "data": {
            "text/plain": [
              "<IPython.core.display.HTML object>"
            ],
            "text/html": [
              "\n",
              "     <input type=\"file\" id=\"files-344a23ee-551b-4d20-8637-2db4ad5b8e66\" name=\"files[]\" multiple disabled\n",
              "        style=\"border:none\" />\n",
              "     <output id=\"result-344a23ee-551b-4d20-8637-2db4ad5b8e66\">\n",
              "      Upload widget is only available when the cell has been executed in the\n",
              "      current browser session. Please rerun this cell to enable.\n",
              "      </output>\n",
              "      <script>// Copyright 2017 Google LLC\n",
              "//\n",
              "// Licensed under the Apache License, Version 2.0 (the \"License\");\n",
              "// you may not use this file except in compliance with the License.\n",
              "// You may obtain a copy of the License at\n",
              "//\n",
              "//      http://www.apache.org/licenses/LICENSE-2.0\n",
              "//\n",
              "// Unless required by applicable law or agreed to in writing, software\n",
              "// distributed under the License is distributed on an \"AS IS\" BASIS,\n",
              "// WITHOUT WARRANTIES OR CONDITIONS OF ANY KIND, either express or implied.\n",
              "// See the License for the specific language governing permissions and\n",
              "// limitations under the License.\n",
              "\n",
              "/**\n",
              " * @fileoverview Helpers for google.colab Python module.\n",
              " */\n",
              "(function(scope) {\n",
              "function span(text, styleAttributes = {}) {\n",
              "  const element = document.createElement('span');\n",
              "  element.textContent = text;\n",
              "  for (const key of Object.keys(styleAttributes)) {\n",
              "    element.style[key] = styleAttributes[key];\n",
              "  }\n",
              "  return element;\n",
              "}\n",
              "\n",
              "// Max number of bytes which will be uploaded at a time.\n",
              "const MAX_PAYLOAD_SIZE = 100 * 1024;\n",
              "\n",
              "function _uploadFiles(inputId, outputId) {\n",
              "  const steps = uploadFilesStep(inputId, outputId);\n",
              "  const outputElement = document.getElementById(outputId);\n",
              "  // Cache steps on the outputElement to make it available for the next call\n",
              "  // to uploadFilesContinue from Python.\n",
              "  outputElement.steps = steps;\n",
              "\n",
              "  return _uploadFilesContinue(outputId);\n",
              "}\n",
              "\n",
              "// This is roughly an async generator (not supported in the browser yet),\n",
              "// where there are multiple asynchronous steps and the Python side is going\n",
              "// to poll for completion of each step.\n",
              "// This uses a Promise to block the python side on completion of each step,\n",
              "// then passes the result of the previous step as the input to the next step.\n",
              "function _uploadFilesContinue(outputId) {\n",
              "  const outputElement = document.getElementById(outputId);\n",
              "  const steps = outputElement.steps;\n",
              "\n",
              "  const next = steps.next(outputElement.lastPromiseValue);\n",
              "  return Promise.resolve(next.value.promise).then((value) => {\n",
              "    // Cache the last promise value to make it available to the next\n",
              "    // step of the generator.\n",
              "    outputElement.lastPromiseValue = value;\n",
              "    return next.value.response;\n",
              "  });\n",
              "}\n",
              "\n",
              "/**\n",
              " * Generator function which is called between each async step of the upload\n",
              " * process.\n",
              " * @param {string} inputId Element ID of the input file picker element.\n",
              " * @param {string} outputId Element ID of the output display.\n",
              " * @return {!Iterable<!Object>} Iterable of next steps.\n",
              " */\n",
              "function* uploadFilesStep(inputId, outputId) {\n",
              "  const inputElement = document.getElementById(inputId);\n",
              "  inputElement.disabled = false;\n",
              "\n",
              "  const outputElement = document.getElementById(outputId);\n",
              "  outputElement.innerHTML = '';\n",
              "\n",
              "  const pickedPromise = new Promise((resolve) => {\n",
              "    inputElement.addEventListener('change', (e) => {\n",
              "      resolve(e.target.files);\n",
              "    });\n",
              "  });\n",
              "\n",
              "  const cancel = document.createElement('button');\n",
              "  inputElement.parentElement.appendChild(cancel);\n",
              "  cancel.textContent = 'Cancel upload';\n",
              "  const cancelPromise = new Promise((resolve) => {\n",
              "    cancel.onclick = () => {\n",
              "      resolve(null);\n",
              "    };\n",
              "  });\n",
              "\n",
              "  // Wait for the user to pick the files.\n",
              "  const files = yield {\n",
              "    promise: Promise.race([pickedPromise, cancelPromise]),\n",
              "    response: {\n",
              "      action: 'starting',\n",
              "    }\n",
              "  };\n",
              "\n",
              "  cancel.remove();\n",
              "\n",
              "  // Disable the input element since further picks are not allowed.\n",
              "  inputElement.disabled = true;\n",
              "\n",
              "  if (!files) {\n",
              "    return {\n",
              "      response: {\n",
              "        action: 'complete',\n",
              "      }\n",
              "    };\n",
              "  }\n",
              "\n",
              "  for (const file of files) {\n",
              "    const li = document.createElement('li');\n",
              "    li.append(span(file.name, {fontWeight: 'bold'}));\n",
              "    li.append(span(\n",
              "        `(${file.type || 'n/a'}) - ${file.size} bytes, ` +\n",
              "        `last modified: ${\n",
              "            file.lastModifiedDate ? file.lastModifiedDate.toLocaleDateString() :\n",
              "                                    'n/a'} - `));\n",
              "    const percent = span('0% done');\n",
              "    li.appendChild(percent);\n",
              "\n",
              "    outputElement.appendChild(li);\n",
              "\n",
              "    const fileDataPromise = new Promise((resolve) => {\n",
              "      const reader = new FileReader();\n",
              "      reader.onload = (e) => {\n",
              "        resolve(e.target.result);\n",
              "      };\n",
              "      reader.readAsArrayBuffer(file);\n",
              "    });\n",
              "    // Wait for the data to be ready.\n",
              "    let fileData = yield {\n",
              "      promise: fileDataPromise,\n",
              "      response: {\n",
              "        action: 'continue',\n",
              "      }\n",
              "    };\n",
              "\n",
              "    // Use a chunked sending to avoid message size limits. See b/62115660.\n",
              "    let position = 0;\n",
              "    do {\n",
              "      const length = Math.min(fileData.byteLength - position, MAX_PAYLOAD_SIZE);\n",
              "      const chunk = new Uint8Array(fileData, position, length);\n",
              "      position += length;\n",
              "\n",
              "      const base64 = btoa(String.fromCharCode.apply(null, chunk));\n",
              "      yield {\n",
              "        response: {\n",
              "          action: 'append',\n",
              "          file: file.name,\n",
              "          data: base64,\n",
              "        },\n",
              "      };\n",
              "\n",
              "      let percentDone = fileData.byteLength === 0 ?\n",
              "          100 :\n",
              "          Math.round((position / fileData.byteLength) * 100);\n",
              "      percent.textContent = `${percentDone}% done`;\n",
              "\n",
              "    } while (position < fileData.byteLength);\n",
              "  }\n",
              "\n",
              "  // All done.\n",
              "  yield {\n",
              "    response: {\n",
              "      action: 'complete',\n",
              "    }\n",
              "  };\n",
              "}\n",
              "\n",
              "scope.google = scope.google || {};\n",
              "scope.google.colab = scope.google.colab || {};\n",
              "scope.google.colab._files = {\n",
              "  _uploadFiles,\n",
              "  _uploadFilesContinue,\n",
              "};\n",
              "})(self);\n",
              "</script> "
            ]
          },
          "metadata": {}
        },
        {
          "output_type": "stream",
          "name": "stdout",
          "text": [
            "Saving samples_weight_subset.pt to samples_weight_subset.pt\n"
          ]
        }
      ]
    },
    {
      "cell_type": "code",
      "source": [
        "! mkdir ~/.kaggle\n",
        "! cp kaggle.json ~/.kaggle/\n",
        "! chmod 600 ~/.kaggle/kaggle.json\n",
        "! kaggle competitions download -c 'multi-label-classification-competition-2025'\n",
        "! mkdir Dataset\n",
        "! unzip multi-label-classification-competition-2025.zip -d Dataset &> /dev/null"
      ],
      "metadata": {
        "id": "uf168JTBuHpQ",
        "outputId": "1dabf476-8b54-43d1-a089-9c844f7c8765",
        "colab": {
          "base_uri": "https://localhost:8080/"
        }
      },
      "id": "uf168JTBuHpQ",
      "execution_count": 2,
      "outputs": [
        {
          "output_type": "stream",
          "name": "stdout",
          "text": [
            "Downloading multi-label-classification-competition-2025.zip to /content\n",
            " 66% 265M/399M [00:00<00:00, 1.39GB/s]\n",
            "100% 399M/399M [00:00<00:00, 1.39GB/s]\n"
          ]
        }
      ]
    },
    {
      "cell_type": "code",
      "source": [
        "# Model arcitechture\n",
        "import torch.nn.functional as F\n",
        "from torch import nn\n",
        "\n",
        "class CNN(nn.Module):\n",
        "    def __init__(self):\n",
        "        super(CNN, self).__init__()  # Compulsory operation.\n",
        "        self.conv1 = nn.Conv2d(in_channels=3, out_channels=8, kernel_size=7, stride=2, padding=1)\n",
        "        self.conv2 = nn.Conv2d(8, 16, 5, stride=1, padding=1)\n",
        "        self.conv3 = nn.Conv2d(16, 32,3, stride=1,padding=1)\n",
        "        self.pool = nn.MaxPool2d(3,stride=2)\n",
        "        self.bn1 = nn.BatchNorm2d(8)\n",
        "        self.bn2 = nn.BatchNorm2d(16)\n",
        "        self.bn3 = nn.BatchNorm2d(32)\n",
        "        self.bn4 = nn.BatchNorm1d(1000)\n",
        "        self.dropout1 = nn.Dropout2d(0.25)\n",
        "        self.dropout2 = nn.Dropout2d(0.25)\n",
        "        self.dropout3 = nn.Dropout(0.5)\n",
        "        self.fc1 = nn.Linear(6272, 1000)\n",
        "        self.fc2 = nn.Linear(1000, 19)\n",
        "\n",
        "    def forward(self, x):\n",
        "        x = self.pool(F.relu(self.bn1(self.conv1(x))))\n",
        "        x = self.dropout1(x)\n",
        "        x = self.pool(F.relu(self.bn2(self.conv2(x))))\n",
        "        x = self.dropout2(x)\n",
        "        x = self.pool(F.relu(self.bn3(self.conv3(x))))\n",
        "        x = torch.flatten(x, 1) # flatten all dimensions except batch\n",
        "        x = self.dropout3(x)\n",
        "        x = F.relu(self.bn4(self.fc1(x)))\n",
        "        x = self.dropout3(x)\n",
        "        logits = self.fc2(x)\n",
        "        return logits"
      ],
      "metadata": {
        "id": "u6SWXu0b-joR"
      },
      "id": "u6SWXu0b-joR",
      "execution_count": 18,
      "outputs": []
    },
    {
      "cell_type": "code",
      "source": [
        "import re\n",
        "import pandas as pd\n",
        "from io import StringIO\n",
        "import os\n",
        "import torch\n",
        "from torch import nn\n",
        "import torch.nn.functional as F\n",
        "import matplotlib.pyplot as plt\n",
        "from torchvision import transforms\n",
        "from torch.utils.data import DataLoader, Subset, random_split, WeightedRandomSampler\n",
        "\n",
        "from Dataload import pil_process_image_color, encode, CustomImageDataset\n",
        "from utils import train_network, pos_weight, test\n",
        "from metrics import compute_metrics\n",
        "from sklearn.metrics import confusion_matrix\n",
        "import torch\n",
        "import numpy as np\n",
        "from tqdm import tqdm\n",
        "\n",
        "# Hyperparameters\n",
        "batch_size = 256\n",
        "lr = 0.0001\n",
        "weight_decay = 0\n",
        "INPUT_HEIGHT = 256\n",
        "INPUT_WIDTH = 256\n",
        "# Can be used in BCE loss function:\n",
        "#weights = torch.ones(19)\n",
        "\n",
        "# Set device to GPU if this is available\n",
        "use_cuda = True if torch.cuda.is_available() else False\n",
        "device = torch.device(\"cuda\" if torch.cuda.is_available() else \"cpu\")\n",
        "print('We are using GPU.' if use_cuda else 'We are using CPU.')\n",
        "\n",
        "# Loading filenames and labels\n",
        "# Assumes data is in folder \"Dataset\"\n",
        "DATASET_PATH = \"/content/Dataset/COMP5329S1A2Dataset/\"\n",
        "FILENAME_TRAIN = 'train.csv'\n",
        "FILENAME_TEST = 'test.csv'\n",
        "\n",
        "with open(DATASET_PATH + FILENAME_TRAIN) as file:\n",
        "    lines = [re.sub(r'([^,])\"(\\s*[^\\n])', r'\\1/\"\\2', line) for line in file]\n",
        "    df_train = pd.read_csv(StringIO(''.join(lines)), escapechar=\"/\")\n",
        "with open(DATASET_PATH + FILENAME_TEST) as file:\n",
        "    lines = [re.sub(r'([^,])\"(\\s*[^\\n])', r'\\1/\"\\2', line) for line in file]\n",
        "    df_test = pd.read_csv(StringIO(''.join(lines)), escapechar=\"/\")\n",
        "df_train.to_csv(\"train_labels_captions.csv\")\n",
        "df_test.to_csv(\"test_labels_captions.csv\")\n",
        "\n",
        "# To get overview\n",
        "#print(df_test.describe)\n",
        "\n",
        "# Defining transforms\n",
        "\n",
        "resize = transforms.Resize(size=(INPUT_HEIGHT,\n",
        "        INPUT_WIDTH)) # Trying to resize to (INPUT_HEIGHT,INPUT_WIDTH)\n",
        "\n",
        "trainTransforms_basic = transforms.Compose(\n",
        "    [resize,transforms.ToTensor()])\n",
        "trainTransforms_augment = transforms.Compose(\n",
        "    [resize,transforms.RandomHorizontalFlip(),transforms.RandomAffine(degrees=90),transforms.RandomCrop(size=256,pad_if_needed=True),transforms.ColorJitter(),transforms.ToTensor()])\n",
        "#transforms.RandomCrop(size=124,padding=2,pad_if_needed=True)\n",
        "testTransforms = transforms.Compose([resize,transforms.ToTensor()])\n",
        "\n",
        "# Sampling method\n",
        "samples_weight = torch.load(\"/content/samples_weight.pt\") # For sampler\n",
        "weighted_sampler_full = WeightedRandomSampler(samples_weight, len(samples_weight))\n",
        "\n",
        "# Create dataloaders\n",
        "training_data = CustomImageDataset(df_train,DATASET_PATH+\"data/\",transform=trainTransforms_basic,transform_aug=trainTransforms_augment,target_transform=encode)\n",
        "test_data = CustomImageDataset(df_test,DATASET_PATH+\"data/\",transform=testTransforms,target_transform=None,targets_available=False)\n",
        "train_dataloader = DataLoader(training_data, batch_size=batch_size, sampler=weighted_sampler_full) #shuffle = True\n",
        "test_dataloader = DataLoader(test_data)\n",
        "\n",
        "# Setup model\n",
        "model = CNN().to(device)\n",
        "#weights = pos_weight(df_train,barplot=False).to(device)\n",
        "loss = torch.nn.BCEWithLogitsLoss()#weights.to(device))\n",
        "optimizer = torch.optim.Adam(model.parameters(), lr=lr, weight_decay=weight_decay)\n",
        "#optimizer = torch.optim.SGD(model.parameters(),lr=lr)\n",
        "print('Model initialized.')\n",
        "\n",
        "# Loading indices for 80/20 split of training data\n",
        "train_idx = np.load(\"/content/subset_train_indices.npy\")\n",
        "validation_idx = np.load(\"/content/validation_indices.npy\")\n",
        "samples_weight_subset = torch.load(\"/content/samples_weight_subset.pt\")\n",
        "print(samples_weight_subset)\n",
        "weigthed_sampler_subset = WeightedRandomSampler(samples_weight_subset,len(samples_weight_subset))\n",
        "\n",
        "# Subset dataset for train and val\n",
        "subset_train_dataset = Subset(training_data, train_idx)\n",
        "validation_dataset = Subset(training_data, validation_idx)\n",
        "subset_train_loader = DataLoader(subset_train_dataset, batch_size=batch_size,sampler=weigthed_sampler_subset) #shuffle=True)\n",
        "validation_loader = DataLoader(validation_dataset)\n",
        "\n",
        "# Training\n",
        "log_interval = 100 # How often we print train loss\n",
        "train_losses, test_losses = train_network(log_interval,model, device, subset_train_loader, validation_loader,optimizer, loss,epochs=15)\n",
        "\n",
        "plt.figure(figsize=(15,4))\n",
        "plt.plot(train_losses,label=\"Training\")\n",
        "plt.plot(test_losses,label=\"Validation\")\n",
        "plt.ylabel(\"Loss\")\n",
        "plt.xlabel(\"Epochs\")\n",
        "plt.legend(loc='upper right')\n",
        "plt.show()\n",
        "\n",
        "# Testing on validation set and get\n",
        "test_loss, all_preds, all_targets = test(model, device, validation_loader, loss, target_available=True) # output predictions as tensors\n",
        "all_preds = np.asarray([np.asarray(tensor.cpu()) for tensor in all_preds])\n",
        "all_targets = np.asarray([np.asarray(tensor.cpu()) for tensor in all_targets])\n",
        "metrics = compute_metrics(all_preds,all_targets)\n",
        "print(metrics)"
      ],
      "metadata": {
        "colab": {
          "base_uri": "https://localhost:8080/",
          "height": 915
        },
        "id": "hae78mIgE9gh",
        "outputId": "8db4bb0c-d01e-4cc2-b35e-703289bcb97f"
      },
      "id": "hae78mIgE9gh",
      "execution_count": 28,
      "outputs": [
        {
          "output_type": "stream",
          "name": "stdout",
          "text": [
            "We are using GPU.\n",
            "Model initialized.\n",
            "tensor([5.4909e-05, 5.4909e-05, 5.4909e-05,  ..., 5.4909e-05, 5.4909e-05,\n",
            "        1.7289e-04], dtype=torch.float64)\n"
          ]
        },
        {
          "output_type": "stream",
          "name": "stderr",
          "text": [
            "\r  0%|          | 0/15 [00:00<?, ?it/s]"
          ]
        },
        {
          "output_type": "stream",
          "name": "stdout",
          "text": [
            "\n",
            "Train Epoch: 0 [0/23996 (0%)]\tLoss: 0.739431\n"
          ]
        },
        {
          "output_type": "stream",
          "name": "stderr",
          "text": [
            "\r  7%|▋         | 1/15 [01:31<21:18, 91.35s/it]"
          ]
        },
        {
          "output_type": "stream",
          "name": "stdout",
          "text": [
            "\n",
            "Train Epoch: 1 [0/23996 (0%)]\tLoss: 0.216425\n"
          ]
        },
        {
          "output_type": "stream",
          "name": "stderr",
          "text": [
            "\r 13%|█▎        | 2/15 [03:03<19:51, 91.64s/it]"
          ]
        },
        {
          "output_type": "stream",
          "name": "stdout",
          "text": [
            "\n",
            "Train Epoch: 2 [0/23996 (0%)]\tLoss: 0.207354\n"
          ]
        },
        {
          "output_type": "stream",
          "name": "stderr",
          "text": [
            "\r 20%|██        | 3/15 [04:34<18:20, 91.68s/it]"
          ]
        },
        {
          "output_type": "stream",
          "name": "stdout",
          "text": [
            "\n",
            "Train Epoch: 3 [0/23996 (0%)]\tLoss: 0.192948\n"
          ]
        },
        {
          "output_type": "stream",
          "name": "stderr",
          "text": [
            "\r 27%|██▋       | 4/15 [06:06<16:46, 91.54s/it]"
          ]
        },
        {
          "output_type": "stream",
          "name": "stdout",
          "text": [
            "\n",
            "Train Epoch: 4 [0/23996 (0%)]\tLoss: 0.189435\n"
          ]
        },
        {
          "output_type": "stream",
          "name": "stderr",
          "text": [
            "\r 33%|███▎      | 5/15 [07:37<15:15, 91.54s/it]"
          ]
        },
        {
          "output_type": "stream",
          "name": "stdout",
          "text": [
            "\n",
            "Train Epoch: 5 [0/23996 (0%)]\tLoss: 0.202818\n"
          ]
        },
        {
          "output_type": "stream",
          "name": "stderr",
          "text": [
            "\r 40%|████      | 6/15 [09:09<13:43, 91.54s/it]"
          ]
        },
        {
          "output_type": "stream",
          "name": "stdout",
          "text": [
            "\n",
            "Train Epoch: 6 [0/23996 (0%)]\tLoss: 0.205982\n"
          ]
        },
        {
          "output_type": "stream",
          "name": "stderr",
          "text": [
            "\r 47%|████▋     | 7/15 [10:39<12:09, 91.15s/it]"
          ]
        },
        {
          "output_type": "stream",
          "name": "stdout",
          "text": [
            "\n",
            "Train Epoch: 7 [0/23996 (0%)]\tLoss: 0.187959\n"
          ]
        },
        {
          "output_type": "stream",
          "name": "stderr",
          "text": [
            "\r 53%|█████▎    | 8/15 [12:11<10:38, 91.25s/it]"
          ]
        },
        {
          "output_type": "stream",
          "name": "stdout",
          "text": [
            "\n",
            "Train Epoch: 8 [0/23996 (0%)]\tLoss: 0.167771\n"
          ]
        },
        {
          "output_type": "stream",
          "name": "stderr",
          "text": [
            "\r 60%|██████    | 9/15 [13:41<09:06, 91.07s/it]"
          ]
        },
        {
          "output_type": "stream",
          "name": "stdout",
          "text": [
            "\n",
            "Train Epoch: 9 [0/23996 (0%)]\tLoss: 0.178848\n"
          ]
        },
        {
          "output_type": "stream",
          "name": "stderr",
          "text": [
            "\r 67%|██████▋   | 10/15 [15:13<07:36, 91.24s/it]"
          ]
        },
        {
          "output_type": "stream",
          "name": "stdout",
          "text": [
            "\n",
            "Train Epoch: 10 [0/23996 (0%)]\tLoss: 0.170221\n"
          ]
        },
        {
          "output_type": "stream",
          "name": "stderr",
          "text": [
            "\r 73%|███████▎  | 11/15 [16:45<06:06, 91.51s/it]"
          ]
        },
        {
          "output_type": "stream",
          "name": "stdout",
          "text": [
            "\n",
            "Train Epoch: 11 [0/23996 (0%)]\tLoss: 0.192108\n"
          ]
        },
        {
          "output_type": "stream",
          "name": "stderr",
          "text": [
            "\r 80%|████████  | 12/15 [18:16<04:34, 91.43s/it]"
          ]
        },
        {
          "output_type": "stream",
          "name": "stdout",
          "text": [
            "\n",
            "Train Epoch: 12 [0/23996 (0%)]\tLoss: 0.173525\n"
          ]
        },
        {
          "output_type": "stream",
          "name": "stderr",
          "text": [
            "\r 87%|████████▋ | 13/15 [19:47<03:02, 91.26s/it]"
          ]
        },
        {
          "output_type": "stream",
          "name": "stdout",
          "text": [
            "\n",
            "Train Epoch: 13 [0/23996 (0%)]\tLoss: 0.178591\n"
          ]
        },
        {
          "output_type": "stream",
          "name": "stderr",
          "text": [
            "\r 93%|█████████▎| 14/15 [21:18<01:31, 91.17s/it]"
          ]
        },
        {
          "output_type": "stream",
          "name": "stdout",
          "text": [
            "\n",
            "Train Epoch: 14 [0/23996 (0%)]\tLoss: 0.179446\n"
          ]
        },
        {
          "output_type": "stream",
          "name": "stderr",
          "text": [
            "100%|██████████| 15/15 [22:50<00:00, 91.39s/it]\n"
          ]
        },
        {
          "output_type": "display_data",
          "data": {
            "text/plain": [
              "<Figure size 1500x400 with 1 Axes>"
            ],
            "image/png": "[encoded data removed]"
          },
          "metadata": {}
        },
        {
          "output_type": "stream",
          "name": "stdout",
          "text": [
            "{'F1_score': 0.6611523506539413, 'accuracy': 0.9579561403508772, 'precision': 0.9505997153893068, 'recall': 0.5068285280728376}\n"
          ]
        }
      ]
    },
    {
      "cell_type": "code",
      "source": [
        "# save model, scores and plot and check size of model is under 100MB\n",
        "model_name = \"22_05_25_sampling-weighting\"\n",
        "\n",
        "def get_model_size_mb(model):\n",
        "    path = \"temp_model.pth\"\n",
        "    torch.save(model.state_dict(), path)\n",
        "    size_mb = os.path.getsize(path) / (1024 * 1024)\n",
        "    os.remove(path)\n",
        "    return size_mb\n",
        "\n",
        "path_name_model = \"/content/model_\" + model_name+\".pt\"\n",
        "path_name_plot = \"/content/model_\" + model_name + \"_losscurve.png\"\n",
        "path_name_scores = \"/content/model_\" + model_name + \"_scores.txt\"\n",
        "\n",
        "torch.save(model.state_dict(), path_name_model)\n",
        "print(f\"Model saved to {path_name_model}\")\n",
        "size_mb = os.path.getsize(path_name_model) / (1024 * 1024)\n",
        "print(f\"Model size: {size_mb} MB\")\n",
        "\n",
        "plt.figure(figsize=(15,4))\n",
        "plt.plot(train_losses,label=\"Training\")\n",
        "plt.plot(test_losses,label=\"Validation\")\n",
        "plt.ylabel(\"Loss\")\n",
        "plt.xlabel(\"Epochs\")\n",
        "plt.legend(loc='upper right')\n",
        "plt.savefig(path_name_plot)\n",
        "\n",
        "import json\n",
        "with open(path_name_scores, 'w') as file:\n",
        "     file.write(json.dumps(metrics))"
      ],
      "metadata": {
        "colab": {
          "base_uri": "https://localhost:8080/",
          "height": 305
        },
        "id": "yI8gKgxvU0Tr",
        "outputId": "ea20069f-6cef-4d66-e234-f4ad5bc42a4a"
      },
      "id": "yI8gKgxvU0Tr",
      "execution_count": 29,
      "outputs": [
        {
          "output_type": "stream",
          "name": "stdout",
          "text": [
            "Model saved to /content/model_22_05_25_sampling-weighting.pt\n",
            "Model size: 24.062423706054688 MB\n"
          ]
        },
        {
          "output_type": "display_data",
          "data": {
            "text/plain": [
              "<Figure size 1500x400 with 1 Axes>"
            ],
            "image/png": "[encoded data removed]"
          },
          "metadata": {}
        }
      ]
    },
    {
      "cell_type": "code",
      "source": [
        "# Training new model on the full dataset\n",
        "model_full = CNN().to(device)\n",
        "#weights = pos_weight(df_train,barplot=False).to(device)\n",
        "loss = torch.nn.BCEWithLogitsLoss()\n",
        "optimizer_full = torch.optim.Adam(model_full.parameters(), lr=lr)\n",
        "print('Model initialized.')\n",
        "train_losses_full = train_network(log_interval,model_full, device, train_dataloader, test_loader=0,optimizer=optimizer_full, loss=loss,epochs=15)\n",
        "\n",
        "plt.figure(figsize=(15,4))\n",
        "plt.plot(train_losses_full,label=\"Training\")\n",
        "plt.ylabel(\"Loss\")\n",
        "plt.xlabel(\"Epochs\")\n",
        "plt.legend(loc='upper right')\n",
        "\n",
        "# Compute predictions for true test set\n",
        "test_pred = test(model_full, device, test_dataloader,loss,target_available=False)"
      ],
      "metadata": {
        "id": "YgDEmbblCdgS",
        "colab": {
          "base_uri": "https://localhost:8080/",
          "height": 1000
        },
        "outputId": "6a69fae1-92fe-4d9e-996b-59e90f5ff0fe"
      },
      "id": "YgDEmbblCdgS",
      "execution_count": 30,
      "outputs": [
        {
          "output_type": "stream",
          "name": "stdout",
          "text": [
            "Model initialized.\n"
          ]
        },
        {
          "output_type": "stream",
          "name": "stderr",
          "text": [
            "\r  0%|          | 0/15 [00:00<?, ?it/s]"
          ]
        },
        {
          "output_type": "stream",
          "name": "stdout",
          "text": [
            "\n",
            "Train Epoch: 0 [0/29996 (0%)]\tLoss: 0.712450\n",
            "\n",
            "Train Epoch: 0 [25600/29996 (85%)]\tLoss: 0.201422\n"
          ]
        },
        {
          "output_type": "stream",
          "name": "stderr",
          "text": [
            "\r  7%|▋         | 1/15 [01:22<19:11, 82.26s/it]"
          ]
        },
        {
          "output_type": "stream",
          "name": "stdout",
          "text": [
            "\n",
            "Train Epoch: 1 [0/29996 (0%)]\tLoss: 0.196943\n",
            "\n",
            "Train Epoch: 1 [25600/29996 (85%)]\tLoss: 0.208401\n"
          ]
        },
        {
          "output_type": "stream",
          "name": "stderr",
          "text": [
            "\r 13%|█▎        | 2/15 [02:44<17:46, 82.06s/it]"
          ]
        },
        {
          "output_type": "stream",
          "name": "stdout",
          "text": [
            "\n",
            "Train Epoch: 2 [0/29996 (0%)]\tLoss: 0.204597\n",
            "\n",
            "Train Epoch: 2 [25600/29996 (85%)]\tLoss: 0.187474\n"
          ]
        },
        {
          "output_type": "stream",
          "name": "stderr",
          "text": [
            "\r 20%|██        | 3/15 [04:06<16:25, 82.12s/it]"
          ]
        },
        {
          "output_type": "stream",
          "name": "stdout",
          "text": [
            "\n",
            "Train Epoch: 3 [0/29996 (0%)]\tLoss: 0.183027\n",
            "\n",
            "Train Epoch: 3 [25600/29996 (85%)]\tLoss: 0.185780\n"
          ]
        },
        {
          "output_type": "stream",
          "name": "stderr",
          "text": [
            "\r 27%|██▋       | 4/15 [05:28<15:01, 81.94s/it]"
          ]
        },
        {
          "output_type": "stream",
          "name": "stdout",
          "text": [
            "\n",
            "Train Epoch: 4 [0/29996 (0%)]\tLoss: 0.191189\n",
            "\n",
            "Train Epoch: 4 [25600/29996 (85%)]\tLoss: 0.182490\n"
          ]
        },
        {
          "output_type": "stream",
          "name": "stderr",
          "text": [
            "\r 33%|███▎      | 5/15 [06:49<13:38, 81.89s/it]"
          ]
        },
        {
          "output_type": "stream",
          "name": "stdout",
          "text": [
            "\n",
            "Train Epoch: 5 [0/29996 (0%)]\tLoss: 0.178798\n",
            "\n",
            "Train Epoch: 5 [25600/29996 (85%)]\tLoss: 0.167923\n"
          ]
        },
        {
          "output_type": "stream",
          "name": "stderr",
          "text": [
            "\r 40%|████      | 6/15 [08:11<12:16, 81.86s/it]"
          ]
        },
        {
          "output_type": "stream",
          "name": "stdout",
          "text": [
            "\n",
            "Train Epoch: 6 [0/29996 (0%)]\tLoss: 0.188909\n",
            "\n",
            "Train Epoch: 6 [25600/29996 (85%)]\tLoss: 0.179085\n"
          ]
        },
        {
          "output_type": "stream",
          "name": "stderr",
          "text": [
            "\r 47%|████▋     | 7/15 [09:33<10:54, 81.80s/it]"
          ]
        },
        {
          "output_type": "stream",
          "name": "stdout",
          "text": [
            "\n",
            "Train Epoch: 7 [0/29996 (0%)]\tLoss: 0.172485\n",
            "\n",
            "Train Epoch: 7 [25600/29996 (85%)]\tLoss: 0.172718\n"
          ]
        },
        {
          "output_type": "stream",
          "name": "stderr",
          "text": [
            "\r 53%|█████▎    | 8/15 [10:55<09:32, 81.82s/it]"
          ]
        },
        {
          "output_type": "stream",
          "name": "stdout",
          "text": [
            "\n",
            "Train Epoch: 8 [0/29996 (0%)]\tLoss: 0.186404\n",
            "\n",
            "Train Epoch: 8 [25600/29996 (85%)]\tLoss: 0.179902\n"
          ]
        },
        {
          "output_type": "stream",
          "name": "stderr",
          "text": [
            "\r 60%|██████    | 9/15 [12:16<08:10, 81.78s/it]"
          ]
        },
        {
          "output_type": "stream",
          "name": "stdout",
          "text": [
            "\n",
            "Train Epoch: 9 [0/29996 (0%)]\tLoss: 0.184572\n",
            "\n",
            "Train Epoch: 9 [25600/29996 (85%)]\tLoss: 0.188338\n"
          ]
        },
        {
          "output_type": "stream",
          "name": "stderr",
          "text": [
            "\r 67%|██████▋   | 10/15 [13:38<06:48, 81.77s/it]"
          ]
        },
        {
          "output_type": "stream",
          "name": "stdout",
          "text": [
            "\n",
            "Train Epoch: 10 [0/29996 (0%)]\tLoss: 0.183558\n",
            "\n",
            "Train Epoch: 10 [25600/29996 (85%)]\tLoss: 0.178932\n"
          ]
        },
        {
          "output_type": "stream",
          "name": "stderr",
          "text": [
            "\r 73%|███████▎  | 11/15 [15:00<05:27, 81.78s/it]"
          ]
        },
        {
          "output_type": "stream",
          "name": "stdout",
          "text": [
            "\n",
            "Train Epoch: 11 [0/29996 (0%)]\tLoss: 0.186202\n",
            "\n",
            "Train Epoch: 11 [25600/29996 (85%)]\tLoss: 0.167957\n"
          ]
        },
        {
          "output_type": "stream",
          "name": "stderr",
          "text": [
            "\r 80%|████████  | 12/15 [16:22<04:05, 81.75s/it]"
          ]
        },
        {
          "output_type": "stream",
          "name": "stdout",
          "text": [
            "\n",
            "Train Epoch: 12 [0/29996 (0%)]\tLoss: 0.174229\n",
            "\n",
            "Train Epoch: 12 [25600/29996 (85%)]\tLoss: 0.181039\n"
          ]
        },
        {
          "output_type": "stream",
          "name": "stderr",
          "text": [
            "\r 87%|████████▋ | 13/15 [17:44<02:43, 81.95s/it]"
          ]
        },
        {
          "output_type": "stream",
          "name": "stdout",
          "text": [
            "\n",
            "Train Epoch: 13 [0/29996 (0%)]\tLoss: 0.166970\n",
            "\n",
            "Train Epoch: 13 [25600/29996 (85%)]\tLoss: 0.178928\n"
          ]
        },
        {
          "output_type": "stream",
          "name": "stderr",
          "text": [
            "\r 93%|█████████▎| 14/15 [19:06<01:22, 82.06s/it]"
          ]
        },
        {
          "output_type": "stream",
          "name": "stdout",
          "text": [
            "\n",
            "Train Epoch: 14 [0/29996 (0%)]\tLoss: 0.181296\n",
            "\n",
            "Train Epoch: 14 [25600/29996 (85%)]\tLoss: 0.176649\n"
          ]
        },
        {
          "output_type": "stream",
          "name": "stderr",
          "text": [
            "100%|██████████| 15/15 [20:29<00:00, 81.97s/it]\n",
            "100%|██████████| 10000/10000 [00:35<00:00, 281.25it/s]\n"
          ]
        },
        {
          "output_type": "stream",
          "name": "stdout",
          "text": [
            "\n",
            "Predictions computed for test set.\n"
          ]
        },
        {
          "output_type": "display_data",
          "data": {
            "text/plain": [
              "<Figure size 1500x400 with 1 Axes>"
            ],
            "image/png": "[encoded data removed]"
          },
          "metadata": {}
        }
      ]
    },
    {
      "cell_type": "code",
      "source": [
        "# Convert predictions to csv\n",
        "from tqdm import tqdm\n",
        "import numpy as np\n",
        "\n",
        "def get_class(array):\n",
        "  return np.where(array > 0.5)[1] +1\n",
        "\n",
        "def unencode(y_pred):\n",
        "  labels = []\n",
        "  for i in tqdm(range(len(y_pred))):\n",
        "    temp = y_pred[i].cpu()\n",
        "    temp = np.asarray(temp)\n",
        "    temp = get_class(temp)\n",
        "    temp = \" \".join(str(item) for item in temp)\n",
        "    labels.append(temp)\n",
        "  return labels\n",
        "\n",
        "#cpu_preds = torch.tensor(val_pred, device =  'cpu')\n",
        "pred_labels= unencode(test_pred)\n",
        "pred_df = df_test.copy()\n",
        "pred_df = pred_df.drop(\"Caption\",axis=1)\n",
        "pred_df[\"Labels\"] = pred_labels\n",
        "print(\"Submission dataframe:\")\n",
        "print(pred_df.describe)\n",
        "submission_name = \"/content/submission.csv\"\n",
        "pred_df.to_csv(submission_name,index=False)\n",
        "print(f\"Predictions saved as {submission_name}\")"
      ],
      "metadata": {
        "id": "zcZSgKoG5KtF",
        "colab": {
          "base_uri": "https://localhost:8080/"
        },
        "outputId": "cf95c953-459e-4631-f32b-ba07bfe85f95"
      },
      "id": "zcZSgKoG5KtF",
      "execution_count": 31,
      "outputs": [
        {
          "output_type": "stream",
          "name": "stderr",
          "text": [
            "100%|██████████| 10000/10000 [00:00<00:00, 22761.72it/s]"
          ]
        },
        {
          "output_type": "stream",
          "name": "stdout",
          "text": [
            "Submission dataframe:\n",
            "<bound method NDFrame.describe of         ImageID Labels\n",
            "0     30000.jpg      1\n",
            "1     30001.jpg      1\n",
            "2     30002.jpg      1\n",
            "3     30003.jpg      1\n",
            "4     30004.jpg      1\n",
            "...         ...    ...\n",
            "9995  39995.jpg      1\n",
            "9996  39996.jpg      1\n",
            "9997  39997.jpg      1\n",
            "9998  39998.jpg      1\n",
            "9999  39999.jpg      1\n",
            "\n",
            "[10000 rows x 2 columns]>\n",
            "Predictions saved as /content/submission.csv\n"
          ]
        },
        {
          "output_type": "stream",
          "name": "stderr",
          "text": [
            "\n"
          ]
        }
      ]
    },
    {
      "cell_type": "code",
      "source": [
        "# Submit predictions\n",
        "! kaggle competitions submit -c multi-label-classification-competition-2025 -f /content/submission.csv -m \"first submission\""
      ],
      "metadata": {
        "id": "jPrAkup83tGG",
        "colab": {
          "base_uri": "https://localhost:8080/"
        },
        "outputId": "4b00ef1e-7c1d-4655-d08f-3084df21f43c"
      },
      "id": "jPrAkup83tGG",
      "execution_count": 32,
      "outputs": [
        {
          "output_type": "stream",
          "name": "stdout",
          "text": [
            "100% 117k/117k [00:00<00:00, 121kB/s]\n",
            "Successfully submitted to Multi-label Classification Competition 2025"
          ]
        }
      ]
    }
  ],
  "metadata": {
    "language_info": {
      "name": "python"
    },
    "colab": {
      "provenance": [],
      "gpuType": "L4",
      "machine_shape": "hm",
      "include_colab_link": true
    },
    "kernelspec": {
      "name": "python3",
      "display_name": "Python 3"
    },
    "accelerator": "GPU"
  },
  "nbformat": 4,
  "nbformat_minor": 5
}