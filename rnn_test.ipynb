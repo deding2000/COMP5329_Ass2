{
 "cells": [
  {
   "cell_type": "code",
   "execution_count": null,
   "id": "3dc7962a",
   "metadata": {
    "vscode": {
     "languageId": "plaintext"
    }
   },
   "outputs": [],
   "source": [
    "import torchtext"
   ]
  }
 ],
 "metadata": {
  "language_info": {
   "name": "python"
  }
 },
 "nbformat": 4,
 "nbformat_minor": 5
}
